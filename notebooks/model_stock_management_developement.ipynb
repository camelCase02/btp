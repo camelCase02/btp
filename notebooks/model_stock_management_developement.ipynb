{
  "cells": [
    {
      "cell_type": "code",
      "execution_count": 1,
      "metadata": {},
      "outputs": [
        {
          "name": "stdout",
          "output_type": "stream",
          "text": [
            "\u001b[31mERROR: Could not find a version that satisfies the requirement tensorflow==2.5.0 (from versions: 2.12.0rc0, 2.12.0rc1, 2.12.0, 2.12.1, 2.13.0rc0, 2.13.0rc1, 2.13.0rc2, 2.13.0, 2.13.1, 2.14.0rc0, 2.14.0rc1, 2.14.0, 2.14.1, 2.15.0rc0, 2.15.0rc1, 2.15.0, 2.15.0.post1, 2.15.1, 2.16.0rc0, 2.16.1, 2.16.2, 2.17.0rc0, 2.17.0rc1, 2.17.0, 2.17.1, 2.18.0rc0, 2.18.0rc1, 2.18.0rc2, 2.18.0)\u001b[0m\u001b[31m\n",
            "\u001b[0m\u001b[31mERROR: No matching distribution found for tensorflow==2.5.0\u001b[0m\u001b[31m\n",
            "\u001b[0mNote: you may need to restart the kernel to use updated packages.\n"
          ]
        }
      ],
      "source": [
        "%pip install tensorflow==2.5.0 scikit-learn optuna"
      ]
    },
    {
      "cell_type": "code",
      "execution_count": 2,
      "metadata": {},
      "outputs": [],
      "source": [
        "import pandas as pd\n",
        "import numpy as np"
      ]
    },
    {
      "cell_type": "code",
      "execution_count": 3,
      "metadata": {},
      "outputs": [],
      "source": [
        "def dummy_npwarn_decorator_factory():\n",
        "  def npwarn_decorator(x):\n",
        "    return x\n",
        "  return npwarn_decorator\n",
        "np._no_nep50_warning = getattr(np, '_no_nep50_warning', dummy_npwarn_decorator_factory)"
      ]
    },
    {
      "cell_type": "code",
      "execution_count": 4,
      "metadata": {},
      "outputs": [
        {
          "name": "stderr",
          "output_type": "stream",
          "text": [
            "2025-02-21 16:48:07.576404: I external/local_xla/xla/tsl/cuda/cudart_stub.cc:32] Could not find cuda drivers on your machine, GPU will not be used.\n",
            "2025-02-21 16:48:07.579830: I external/local_xla/xla/tsl/cuda/cudart_stub.cc:32] Could not find cuda drivers on your machine, GPU will not be used.\n",
            "2025-02-21 16:48:07.588014: E external/local_xla/xla/stream_executor/cuda/cuda_fft.cc:477] Unable to register cuFFT factory: Attempting to register factory for plugin cuFFT when one has already been registered\n",
            "WARNING: All log messages before absl::InitializeLog() is called are written to STDERR\n",
            "E0000 00:00:1740136687.601781    5182 cuda_dnn.cc:8310] Unable to register cuDNN factory: Attempting to register factory for plugin cuDNN when one has already been registered\n",
            "E0000 00:00:1740136687.605493    5182 cuda_blas.cc:1418] Unable to register cuBLAS factory: Attempting to register factory for plugin cuBLAS when one has already been registered\n",
            "2025-02-21 16:48:07.620316: I tensorflow/core/platform/cpu_feature_guard.cc:210] This TensorFlow binary is optimized to use available CPU instructions in performance-critical operations.\n",
            "To enable the following instructions: AVX2 FMA, in other operations, rebuild TensorFlow with the appropriate compiler flags.\n"
          ]
        }
      ],
      "source": [
        "import tensorflow as tf"
      ]
    },
    {
      "cell_type": "code",
      "execution_count": 5,
      "metadata": {},
      "outputs": [
        {
          "name": "stdout",
          "output_type": "stream",
          "text": [
            "2.18.0\n",
            "2.0.2\n"
          ]
        }
      ],
      "source": [
        "print(tf.__version__)\n",
        "print(np.__version__)"
      ]
    },
    {
      "cell_type": "code",
      "execution_count": 6,
      "metadata": {},
      "outputs": [],
      "source": [
        "from tensorflow.keras.models import Sequential\n",
        "from tensorflow.keras.layers import Dense, Dropout"
      ]
    },
    {
      "cell_type": "code",
      "execution_count": 7,
      "metadata": {},
      "outputs": [],
      "source": [
        "def get_mlp_model(input_shape,hidden_layer_one,dropout_one,hidden_layer_two,dropout_two):\n",
        "    model = Sequential()\n",
        "    model.add(Dense(hidden_layer_one, activation='elu', input_shape=input_shape))\n",
        "    if dropout_one !=0:\n",
        "        model.add(Dropout(dropout_one))\n",
        "    model.add(Dense(hidden_layer_two, activation='elu'))\n",
        "    if dropout_two !=0:\n",
        "        model.add(Dropout(dropout_two))\n",
        "    model.add(Dense(1))\n",
        "    # Compile the model\n",
        "    model.compile(loss='mean_squared_error', optimizer=\"Adam\")\n",
        "\n",
        "    return model"
      ]
    },
    {
      "cell_type": "code",
      "execution_count": 8,
      "metadata": {},
      "outputs": [],
      "source": [
        "def compute_error(trues, predicted):\n",
        "    corr = np.corrcoef(predicted, trues)[0,1]\n",
        "    mae = np.mean(np.abs(predicted - trues))\n",
        "    rae = np.sum(np.abs(predicted - trues)) / np.sum(np.abs(trues - np.mean(trues)))\n",
        "    rmse = np.sqrt(np.mean((predicted - trues)**2))\n",
        "    rrse = np.sqrt(np.sum((predicted - trues)**2) / np.sum((trues - np.mean(trues))**2))\n",
        "    mape = np.mean(np.abs((predicted - trues) / trues)) * 100\n",
        "    r2 = max(0, 1 - np.sum((predicted - trues)**2) / np.sum((trues - np.mean(trues))**2))\n",
        "    # Calculez les autres mesures d'erreur ici\n",
        "    return rmse, corr, mae, rae, rrse, mape, r2"
      ]
    },
    {
      "cell_type": "code",
      "execution_count": 9,
      "metadata": {
        "id": "5C0BkZXt65Ez",
        "outputId": "23a1bc40-2ac9-4a90-9040-db4f19ee38d6"
      },
      "outputs": [
        {
          "name": "stderr",
          "output_type": "stream",
          "text": [
            "/home/usman/miniconda3/envs/curie/lib/python3.11/site-packages/tqdm/auto.py:21: TqdmWarning: IProgress not found. Please update jupyter and ipywidgets. See https://ipywidgets.readthedocs.io/en/stable/user_install.html\n",
            "  from .autonotebook import tqdm as notebook_tqdm\n"
          ]
        }
      ],
      "source": [
        "from sklearn.model_selection import train_test_split\n",
        "from sklearn.metrics import mean_squared_error\n",
        "\n",
        "import optuna\n",
        "from tensorflow.keras.callbacks import ModelCheckpoint\n",
        "\n",
        "from sklearn.neural_network import MLPRegressor\n",
        "from tensorflow.keras.callbacks import ModelCheckpoint"
      ]
    },
    {
      "cell_type": "code",
      "execution_count": 10,
      "metadata": {
        "id": "o3bTXF_XcinP",
        "outputId": "f76c02a0-521f-4017-c706-a3cf084c3307"
      },
      "outputs": [
        {
          "name": "stderr",
          "output_type": "stream",
          "text": [
            "W0000 00:00:1740136689.900728    5182 gpu_device.cc:2344] Cannot dlopen some GPU libraries. Please make sure the missing libraries mentioned above are installed properly if you would like to use GPU. Follow the guide at https://www.tensorflow.org/install/gpu for how to download and setup the required libraries for your platform.\n",
            "Skipping registering GPU devices...\n"
          ]
        },
        {
          "data": {
            "text/plain": [
              "[]"
            ]
          },
          "execution_count": 10,
          "metadata": {},
          "output_type": "execute_result"
        }
      ],
      "source": [
        "import tensorflow as tf\n",
        "tf.config.list_physical_devices('GPU')"
      ]
    },
    {
      "attachments": {},
      "cell_type": "markdown",
      "metadata": {
        "id": "F0LEKbphcinQ"
      },
      "source": [
        "# We start by loading the pre-processed data"
      ]
    },
    {
      "cell_type": "code",
      "execution_count": 11,
      "metadata": {
        "id": "iok0znZ9cinS",
        "outputId": "13141a83-357f-41a0-df1b-e57456394b51"
      },
      "outputs": [
        {
          "data": {
            "text/html": [
              "<div>\n",
              "<style scoped>\n",
              "    .dataframe tbody tr th:only-of-type {\n",
              "        vertical-align: middle;\n",
              "    }\n",
              "\n",
              "    .dataframe tbody tr th {\n",
              "        vertical-align: top;\n",
              "    }\n",
              "\n",
              "    .dataframe thead th {\n",
              "        text-align: right;\n",
              "    }\n",
              "</style>\n",
              "<table border=\"1\" class=\"dataframe\">\n",
              "  <thead>\n",
              "    <tr style=\"text-align: right;\">\n",
              "      <th></th>\n",
              "      <th>Inflation</th>\n",
              "      <th>Month</th>\n",
              "      <th>Year</th>\n",
              "      <th>pmi</th>\n",
              "      <th>PartNo</th>\n",
              "      <th>Description</th>\n",
              "      <th>Quantity</th>\n",
              "      <th>Sales Price</th>\n",
              "      <th>Total Sales</th>\n",
              "      <th>Swaraj Engines Stock Price</th>\n",
              "      <th>M&amp;M Stock Price</th>\n",
              "      <th>Escorts Kuboto Stock Price</th>\n",
              "    </tr>\n",
              "  </thead>\n",
              "  <tbody>\n",
              "    <tr>\n",
              "      <th>0</th>\n",
              "      <td>7.59</td>\n",
              "      <td>1</td>\n",
              "      <td>2020</td>\n",
              "      <td>250</td>\n",
              "      <td>0503BA0290N-RK</td>\n",
              "      <td>ALFA HUB</td>\n",
              "      <td>85</td>\n",
              "      <td>2118.60</td>\n",
              "      <td>59367</td>\n",
              "      <td>1125.0</td>\n",
              "      <td>532.9</td>\n",
              "      <td>630.0</td>\n",
              "    </tr>\n",
              "    <tr>\n",
              "      <th>1</th>\n",
              "      <td>7.59</td>\n",
              "      <td>1</td>\n",
              "      <td>2020</td>\n",
              "      <td>250</td>\n",
              "      <td>0503BA0290N</td>\n",
              "      <td>Front Wheel Hub</td>\n",
              "      <td>318</td>\n",
              "      <td>3536.35</td>\n",
              "      <td>59367</td>\n",
              "      <td>1125.0</td>\n",
              "      <td>532.9</td>\n",
              "      <td>630.0</td>\n",
              "    </tr>\n",
              "    <tr>\n",
              "      <th>2</th>\n",
              "      <td>7.59</td>\n",
              "      <td>1</td>\n",
              "      <td>2020</td>\n",
              "      <td>250</td>\n",
              "      <td>0502BA1050N</td>\n",
              "      <td>Alfa Rear Wheel Hub LH</td>\n",
              "      <td>209</td>\n",
              "      <td>1383.36</td>\n",
              "      <td>59367</td>\n",
              "      <td>1125.0</td>\n",
              "      <td>532.9</td>\n",
              "      <td>630.0</td>\n",
              "    </tr>\n",
              "    <tr>\n",
              "      <th>3</th>\n",
              "      <td>7.59</td>\n",
              "      <td>1</td>\n",
              "      <td>2020</td>\n",
              "      <td>250</td>\n",
              "      <td>0502BA1060N</td>\n",
              "      <td>Alfa Rear Wheel Hub RH</td>\n",
              "      <td>119</td>\n",
              "      <td>4849.50</td>\n",
              "      <td>59367</td>\n",
              "      <td>1125.0</td>\n",
              "      <td>532.9</td>\n",
              "      <td>630.0</td>\n",
              "    </tr>\n",
              "    <tr>\n",
              "      <th>4</th>\n",
              "      <td>7.59</td>\n",
              "      <td>1</td>\n",
              "      <td>2020</td>\n",
              "      <td>250</td>\n",
              "      <td>0602AAB00260N</td>\n",
              "      <td>Brake Drum ALFA</td>\n",
              "      <td>134</td>\n",
              "      <td>2462.26</td>\n",
              "      <td>59367</td>\n",
              "      <td>1125.0</td>\n",
              "      <td>532.9</td>\n",
              "      <td>630.0</td>\n",
              "    </tr>\n",
              "  </tbody>\n",
              "</table>\n",
              "</div>"
            ],
            "text/plain": [
              "   Inflation  Month  Year  pmi          PartNo             Description  \\\n",
              "0       7.59      1  2020  250  0503BA0290N-RK                ALFA HUB   \n",
              "1       7.59      1  2020  250     0503BA0290N         Front Wheel Hub   \n",
              "2       7.59      1  2020  250     0502BA1050N  Alfa Rear Wheel Hub LH   \n",
              "3       7.59      1  2020  250     0502BA1060N  Alfa Rear Wheel Hub RH   \n",
              "4       7.59      1  2020  250   0602AAB00260N         Brake Drum ALFA   \n",
              "\n",
              "   Quantity  Sales Price  Total Sales  Swaraj Engines Stock Price  \\\n",
              "0        85      2118.60        59367                      1125.0   \n",
              "1       318      3536.35        59367                      1125.0   \n",
              "2       209      1383.36        59367                      1125.0   \n",
              "3       119      4849.50        59367                      1125.0   \n",
              "4       134      2462.26        59367                      1125.0   \n",
              "\n",
              "   M&M Stock Price  Escorts Kuboto Stock Price  \n",
              "0            532.9                       630.0  \n",
              "1            532.9                       630.0  \n",
              "2            532.9                       630.0  \n",
              "3            532.9                       630.0  \n",
              "4            532.9                       630.0  "
            ]
          },
          "execution_count": 11,
          "metadata": {},
          "output_type": "execute_result"
        }
      ],
      "source": [
        "order_history_data=pd.read_csv('../data/final_data.csv')\n",
        "order_history_data.head()"
      ]
    },
    {
      "attachments": {},
      "cell_type": "markdown",
      "metadata": {
        "id": "accsf3FX-psn"
      },
      "source": [
        "# Deep learning model optimization"
      ]
    },
    {
      "cell_type": "code",
      "execution_count": 12,
      "metadata": {
        "id": "scn8bL42tsdw"
      },
      "outputs": [],
      "source": [
        "X = order_history_data.copy()\n",
        "y = order_history_data['Quantity']\n",
        "\n",
        "X_encoded = pd.get_dummies(X, columns=['Description', 'PartNo'])\n",
        "\n",
        "X_train, X_temp, y_train, y_temp = train_test_split(X_encoded, y, test_size=0.3, random_state=27)\n",
        "X_val, X_test, y_val, y_test = train_test_split(X_temp, y_temp, test_size=0.5, random_state=27)"
      ]
    },
    {
      "attachments": {},
      "cell_type": "markdown",
      "metadata": {
        "id": "9xS2bFBycinX"
      },
      "source": [
        "We're going to use mlp. To start with, we'll create an mlp with minimal parameters to get an idea of performance without model optimization. Then we'll optmize our model using Bayesian optimization."
      ]
    },
    {
      "cell_type": "code",
      "execution_count": 13,
      "metadata": {
        "id": "WWk8p6_LcinX",
        "outputId": "692b591b-a8c3-4db4-c394-bcb350fd4cef"
      },
      "outputs": [
        {
          "name": "stdout",
          "output_type": "stream",
          "text": [
            "Validation Set:\n",
            "MSE (Mean Squared Error) on the validation set: 8.52469529733593\n",
            "R-squared (Coefficient of Determination) on the validation set: 0.9996039578120539\n",
            "\n",
            "Test Set:\n",
            "MSE (Mean Squared Error) on the test set: 9.412318902541893\n",
            "R-squared (Coefficient of Determination) on the test set: 0.9995810905170607\n"
          ]
        }
      ],
      "source": [
        "\n",
        "best_mlp = MLPRegressor(hidden_layer_sizes=(50), activation='relu', alpha=0.008724528119026307, learning_rate='constant')\n",
        "\n",
        "# Train the model on the training data\n",
        "best_mlp.fit(X_train, y_train)\n",
        "\n",
        "# Make predictions on the validation set with the trained model\n",
        "y_val_pred = best_mlp.predict(X_val)\n",
        "\n",
        "# Evaluate the performance of the model on the validation set\n",
        "mse_val = mean_squared_error(y_val, y_val_pred)\n",
        "r2_val = best_mlp.score(X_val, y_val)\n",
        "\n",
        "# Make predictions on the test set with the trained model\n",
        "y_test_pred = best_mlp.predict(X_test)\n",
        "\n",
        "# Evaluate the performance of the model on the test set\n",
        "mse_test = mean_squared_error(y_test, y_test_pred)\n",
        "r2_test = best_mlp.score(X_test, y_test)\n",
        "\n",
        "print(\"Validation Set:\")\n",
        "print(\"MSE (Mean Squared Error) on the validation set:\", mse_val)\n",
        "print(\"R-squared (Coefficient of Determination) on the validation set:\", r2_val)\n",
        "\n",
        "print(\"\\nTest Set:\")\n",
        "print(\"MSE (Mean Squared Error) on the test set:\", mse_test)\n",
        "print(\"R-squared (Coefficient of Determination) on the test set:\", r2_test)\n",
        "\n"
      ]
    },
    {
      "attachments": {},
      "cell_type": "markdown",
      "metadata": {
        "id": "spupqHY9cinY"
      },
      "source": [
        "Using Bayesian optimization to find the best hyperparameters"
      ]
    },
    {
      "cell_type": "code",
      "execution_count": 14,
      "metadata": {},
      "outputs": [],
      "source": [
        "# Objective function for Optuna optimization\n",
        "def objective(trial):\n",
        "    # Define the hyperparameters to be optimized\n",
        "    hidden_layer_one = trial.suggest_categorical('hidden_layer_one', [32, 64, 128, 256,512])\n",
        "    hidden_layer_two = trial.suggest_categorical('hidden_layer_two', [32, 64, 128, 256,512])\n",
        "    dropout_one = trial.suggest_uniform('dropout_one', 0, 0.35)\n",
        "    dropout_two = trial.suggest_uniform('dropout_two', 0, 0.5)\n",
        "    # learning_rate = trial.suggest_loguniform('learning_rate', 1e-5, 1e-1)\n",
        "    batch_size = trial.suggest_categorical('batch_size', [16, 32, 64, 128,256,512])\n",
        "    epochs = trial.suggest_categorical('epochs', [150])\n",
        "\n",
        "\n",
        "\n",
        "    model=get_mlp_model(input_shape=(X_train.shape[1],),hidden_layer_one=hidden_layer_one,dropout_one=dropout_one,hidden_layer_two=hidden_layer_two,dropout_two=dropout_two)\n",
        "\n",
        "\n",
        "    # Define the ModelCheckpoint callback\n",
        "    checkpoint_filepath = 'model_checkpoint.h5'\n",
        "    model_checkpoint = ModelCheckpoint(\n",
        "        filepath=checkpoint_filepath,\n",
        "        save_best_only=True,\n",
        "        monitor='val_loss',\n",
        "        mode='min',\n",
        "        verbose=0\n",
        "    )\n",
        "\n",
        "    # Train the model on the training data with validation data and checkpoint callback\n",
        "    history = model.fit(X_train, y_train, epochs=epochs, batch_size=batch_size, verbose=0\n",
        "                        , validation_data=(X_val, y_val),\n",
        "                        callbacks=[model_checkpoint])\n",
        "\n",
        "    # Load the best weights from the saved checkpoint\n",
        "    model.load_weights(checkpoint_filepath)\n",
        "\n",
        "    # Evaluate the performance of the model on the test set\n",
        "    y_test_pred = model.predict(X_test)\n",
        "\n",
        "    # Calculate performance metrics\n",
        "    mse_test = mean_squared_error(y_test, y_test_pred)\n",
        "    # rmse2, corr2, mae2, rae2, rrse2, mape2, r2_2 = compute_error(y_test.values, y_test_pred.reshape(y_test_pred.shape[0]))\n",
        "\n",
        "    return mse_test\n",
        "\n",
        "# Configure Optuna to use the GPU for exhaustive searches\n",
        "study = optuna.create_study(direction='minimize')\n",
        "study.optimize(objective, n_trials=100, n_jobs=1)  # Use n_jobs=1 to avoid parallelism problems on GPU\n",
        "\n",
        "# Show best hyperparameters found\n",
        "print(\"Best hy    perparameters:\")\n",
        "print(study.best_params)\n",
        "print(\"Best MSE:\", study.best_value)"
      ]
    },
    {
      "cell_type": "code",
      "execution_count": 17,
      "metadata": {},
      "outputs": [
        {
          "ename": "NameError",
          "evalue": "name 'study' is not defined",
          "output_type": "error",
          "traceback": [
            "\u001b[0;31m---------------------------------------------------------------------------\u001b[0m",
            "\u001b[0;31mNameError\u001b[0m                                 Traceback (most recent call last)",
            "Cell \u001b[0;32mIn[17], line 1\u001b[0m\n\u001b[0;32m----> 1\u001b[0m best_params \u001b[38;5;241m=\u001b[39m \u001b[43mstudy\u001b[49m\u001b[38;5;241m.\u001b[39mbest_params\n",
            "\u001b[0;31mNameError\u001b[0m: name 'study' is not defined"
          ]
        }
      ],
      "source": [
        "best_params = study.best_params\n",
        "best_mse = study.best_value"
      ]
    },
    {
      "attachments": {},
      "cell_type": "markdown",
      "metadata": {
        "id": "MFAmNGI7cinY"
      },
      "source": [
        "Using Grid Search"
      ]
    },
    {
      "cell_type": "code",
      "execution_count": 15,
      "metadata": {},
      "outputs": [
        {
          "name": "stderr",
          "output_type": "stream",
          "text": [
            "/home/usman/miniconda3/envs/curie/lib/python3.11/site-packages/keras/src/layers/core/dense.py:87: UserWarning: Do not pass an `input_shape`/`input_dim` argument to a layer. When using Sequential models, prefer using an `Input(shape)` object as the first layer in the model instead.\n",
            "  super().__init__(activity_regularizer=activity_regularizer, **kwargs)\n",
            "WARNING:absl:You are saving your model as an HDF5 file via `model.save()` or `keras.saving.save_model(model)`. This file format is considered legacy. We recommend using instead the native Keras format, e.g. `model.save('my_model.keras')` or `keras.saving.save_model(model, 'my_model.keras')`. \n",
            "WARNING:absl:You are saving your model as an HDF5 file via `model.save()` or `keras.saving.save_model(model)`. This file format is considered legacy. We recommend using instead the native Keras format, e.g. `model.save('my_model.keras')` or `keras.saving.save_model(model, 'my_model.keras')`. \n",
            "WARNING:absl:You are saving your model as an HDF5 file via `model.save()` or `keras.saving.save_model(model)`. This file format is considered legacy. We recommend using instead the native Keras format, e.g. `model.save('my_model.keras')` or `keras.saving.save_model(model, 'my_model.keras')`. \n",
            "WARNING:absl:You are saving your model as an HDF5 file via `model.save()` or `keras.saving.save_model(model)`. This file format is considered legacy. We recommend using instead the native Keras format, e.g. `model.save('my_model.keras')` or `keras.saving.save_model(model, 'my_model.keras')`. \n",
            "WARNING:absl:You are saving your model as an HDF5 file via `model.save()` or `keras.saving.save_model(model)`. This file format is considered legacy. We recommend using instead the native Keras format, e.g. `model.save('my_model.keras')` or `keras.saving.save_model(model, 'my_model.keras')`. \n",
            "WARNING:absl:You are saving your model as an HDF5 file via `model.save()` or `keras.saving.save_model(model)`. This file format is considered legacy. We recommend using instead the native Keras format, e.g. `model.save('my_model.keras')` or `keras.saving.save_model(model, 'my_model.keras')`. \n",
            "WARNING:absl:You are saving your model as an HDF5 file via `model.save()` or `keras.saving.save_model(model)`. This file format is considered legacy. We recommend using instead the native Keras format, e.g. `model.save('my_model.keras')` or `keras.saving.save_model(model, 'my_model.keras')`. \n",
            "WARNING:absl:You are saving your model as an HDF5 file via `model.save()` or `keras.saving.save_model(model)`. This file format is considered legacy. We recommend using instead the native Keras format, e.g. `model.save('my_model.keras')` or `keras.saving.save_model(model, 'my_model.keras')`. \n",
            "WARNING:absl:You are saving your model as an HDF5 file via `model.save()` or `keras.saving.save_model(model)`. This file format is considered legacy. We recommend using instead the native Keras format, e.g. `model.save('my_model.keras')` or `keras.saving.save_model(model, 'my_model.keras')`. \n",
            "WARNING:absl:You are saving your model as an HDF5 file via `model.save()` or `keras.saving.save_model(model)`. This file format is considered legacy. We recommend using instead the native Keras format, e.g. `model.save('my_model.keras')` or `keras.saving.save_model(model, 'my_model.keras')`. \n",
            "WARNING:absl:You are saving your model as an HDF5 file via `model.save()` or `keras.saving.save_model(model)`. This file format is considered legacy. We recommend using instead the native Keras format, e.g. `model.save('my_model.keras')` or `keras.saving.save_model(model, 'my_model.keras')`. \n",
            "WARNING:absl:You are saving your model as an HDF5 file via `model.save()` or `keras.saving.save_model(model)`. This file format is considered legacy. We recommend using instead the native Keras format, e.g. `model.save('my_model.keras')` or `keras.saving.save_model(model, 'my_model.keras')`. \n",
            "WARNING:absl:You are saving your model as an HDF5 file via `model.save()` or `keras.saving.save_model(model)`. This file format is considered legacy. We recommend using instead the native Keras format, e.g. `model.save('my_model.keras')` or `keras.saving.save_model(model, 'my_model.keras')`. \n",
            "WARNING:absl:You are saving your model as an HDF5 file via `model.save()` or `keras.saving.save_model(model)`. This file format is considered legacy. We recommend using instead the native Keras format, e.g. `model.save('my_model.keras')` or `keras.saving.save_model(model, 'my_model.keras')`. \n",
            "WARNING:absl:You are saving your model as an HDF5 file via `model.save()` or `keras.saving.save_model(model)`. This file format is considered legacy. We recommend using instead the native Keras format, e.g. `model.save('my_model.keras')` or `keras.saving.save_model(model, 'my_model.keras')`. \n",
            "WARNING:absl:You are saving your model as an HDF5 file via `model.save()` or `keras.saving.save_model(model)`. This file format is considered legacy. We recommend using instead the native Keras format, e.g. `model.save('my_model.keras')` or `keras.saving.save_model(model, 'my_model.keras')`. \n",
            "WARNING:absl:You are saving your model as an HDF5 file via `model.save()` or `keras.saving.save_model(model)`. This file format is considered legacy. We recommend using instead the native Keras format, e.g. `model.save('my_model.keras')` or `keras.saving.save_model(model, 'my_model.keras')`. \n",
            "WARNING:absl:You are saving your model as an HDF5 file via `model.save()` or `keras.saving.save_model(model)`. This file format is considered legacy. We recommend using instead the native Keras format, e.g. `model.save('my_model.keras')` or `keras.saving.save_model(model, 'my_model.keras')`. \n",
            "WARNING:absl:You are saving your model as an HDF5 file via `model.save()` or `keras.saving.save_model(model)`. This file format is considered legacy. We recommend using instead the native Keras format, e.g. `model.save('my_model.keras')` or `keras.saving.save_model(model, 'my_model.keras')`. \n",
            "WARNING:absl:You are saving your model as an HDF5 file via `model.save()` or `keras.saving.save_model(model)`. This file format is considered legacy. We recommend using instead the native Keras format, e.g. `model.save('my_model.keras')` or `keras.saving.save_model(model, 'my_model.keras')`. \n",
            "WARNING:absl:You are saving your model as an HDF5 file via `model.save()` or `keras.saving.save_model(model)`. This file format is considered legacy. We recommend using instead the native Keras format, e.g. `model.save('my_model.keras')` or `keras.saving.save_model(model, 'my_model.keras')`. \n",
            "WARNING:absl:You are saving your model as an HDF5 file via `model.save()` or `keras.saving.save_model(model)`. This file format is considered legacy. We recommend using instead the native Keras format, e.g. `model.save('my_model.keras')` or `keras.saving.save_model(model, 'my_model.keras')`. \n"
          ]
        },
        {
          "ename": "KeyboardInterrupt",
          "evalue": "",
          "output_type": "error",
          "traceback": [
            "\u001b[0;31m---------------------------------------------------------------------------\u001b[0m",
            "\u001b[0;31mKeyboardInterrupt\u001b[0m                         Traceback (most recent call last)",
            "Cell \u001b[0;32mIn[15], line 23\u001b[0m\n\u001b[1;32m     14\u001b[0m model_checkpoint \u001b[38;5;241m=\u001b[39m ModelCheckpoint(\n\u001b[1;32m     15\u001b[0m     filepath\u001b[38;5;241m=\u001b[39mcheckpoint_filepath,\n\u001b[1;32m     16\u001b[0m     save_best_only\u001b[38;5;241m=\u001b[39m\u001b[38;5;28;01mTrue\u001b[39;00m,\n\u001b[0;32m   (...)\u001b[0m\n\u001b[1;32m     19\u001b[0m     verbose\u001b[38;5;241m=\u001b[39m\u001b[38;5;241m0\u001b[39m\n\u001b[1;32m     20\u001b[0m )\n\u001b[1;32m     22\u001b[0m \u001b[38;5;66;03m# Train the model on the training data with validation data and checkpoint callback\u001b[39;00m\n\u001b[0;32m---> 23\u001b[0m history \u001b[38;5;241m=\u001b[39m \u001b[43mmodel\u001b[49m\u001b[38;5;241;43m.\u001b[39;49m\u001b[43mfit\u001b[49m\u001b[43m(\u001b[49m\u001b[43mX_train\u001b[49m\u001b[43m,\u001b[49m\u001b[43m \u001b[49m\u001b[43my_train\u001b[49m\u001b[43m,\u001b[49m\u001b[43m \u001b[49m\u001b[43mepochs\u001b[49m\u001b[38;5;241;43m=\u001b[39;49m\u001b[38;5;241;43m300\u001b[39;49m\u001b[43m,\u001b[49m\u001b[43m \u001b[49m\u001b[43mbatch_size\u001b[49m\u001b[38;5;241;43m=\u001b[39;49m\u001b[38;5;241;43m256\u001b[39;49m\u001b[43m,\u001b[49m\n\u001b[1;32m     24\u001b[0m \u001b[43m                    \u001b[49m\u001b[43mverbose\u001b[49m\u001b[38;5;241;43m=\u001b[39;49m\u001b[38;5;241;43m0\u001b[39;49m\u001b[43m,\u001b[49m\u001b[43m \u001b[49m\u001b[43mvalidation_data\u001b[49m\u001b[38;5;241;43m=\u001b[39;49m\u001b[43m(\u001b[49m\u001b[43mX_val\u001b[49m\u001b[43m,\u001b[49m\u001b[43m \u001b[49m\u001b[43my_val\u001b[49m\u001b[43m)\u001b[49m\u001b[43m,\u001b[49m\n\u001b[1;32m     25\u001b[0m \u001b[43m                    \u001b[49m\u001b[43mcallbacks\u001b[49m\u001b[38;5;241;43m=\u001b[39;49m\u001b[43m[\u001b[49m\u001b[43mmodel_checkpoint\u001b[49m\u001b[43m]\u001b[49m\u001b[43m)\u001b[49m\n\u001b[1;32m     27\u001b[0m \u001b[38;5;66;03m# Load the best weights from the saved checkpoint\u001b[39;00m\n\u001b[1;32m     28\u001b[0m model\u001b[38;5;241m.\u001b[39mload_weights(checkpoint_filepath)\n",
            "File \u001b[0;32m~/miniconda3/envs/curie/lib/python3.11/site-packages/keras/src/utils/traceback_utils.py:117\u001b[0m, in \u001b[0;36mfilter_traceback.<locals>.error_handler\u001b[0;34m(*args, **kwargs)\u001b[0m\n\u001b[1;32m    115\u001b[0m filtered_tb \u001b[38;5;241m=\u001b[39m \u001b[38;5;28;01mNone\u001b[39;00m\n\u001b[1;32m    116\u001b[0m \u001b[38;5;28;01mtry\u001b[39;00m:\n\u001b[0;32m--> 117\u001b[0m     \u001b[38;5;28;01mreturn\u001b[39;00m \u001b[43mfn\u001b[49m\u001b[43m(\u001b[49m\u001b[38;5;241;43m*\u001b[39;49m\u001b[43margs\u001b[49m\u001b[43m,\u001b[49m\u001b[43m \u001b[49m\u001b[38;5;241;43m*\u001b[39;49m\u001b[38;5;241;43m*\u001b[39;49m\u001b[43mkwargs\u001b[49m\u001b[43m)\u001b[49m\n\u001b[1;32m    118\u001b[0m \u001b[38;5;28;01mexcept\u001b[39;00m \u001b[38;5;167;01mException\u001b[39;00m \u001b[38;5;28;01mas\u001b[39;00m e:\n\u001b[1;32m    119\u001b[0m     filtered_tb \u001b[38;5;241m=\u001b[39m _process_traceback_frames(e\u001b[38;5;241m.\u001b[39m__traceback__)\n",
            "File \u001b[0;32m~/miniconda3/envs/curie/lib/python3.11/site-packages/keras/src/backend/tensorflow/trainer.py:395\u001b[0m, in \u001b[0;36mTensorFlowTrainer.fit\u001b[0;34m(self, x, y, batch_size, epochs, verbose, callbacks, validation_split, validation_data, shuffle, class_weight, sample_weight, initial_epoch, steps_per_epoch, validation_steps, validation_batch_size, validation_freq)\u001b[0m\n\u001b[1;32m    384\u001b[0m \u001b[38;5;28;01mif\u001b[39;00m \u001b[38;5;28mgetattr\u001b[39m(\u001b[38;5;28mself\u001b[39m, \u001b[38;5;124m\"\u001b[39m\u001b[38;5;124m_eval_epoch_iterator\u001b[39m\u001b[38;5;124m\"\u001b[39m, \u001b[38;5;28;01mNone\u001b[39;00m) \u001b[38;5;129;01mis\u001b[39;00m \u001b[38;5;28;01mNone\u001b[39;00m:\n\u001b[1;32m    385\u001b[0m     \u001b[38;5;28mself\u001b[39m\u001b[38;5;241m.\u001b[39m_eval_epoch_iterator \u001b[38;5;241m=\u001b[39m TFEpochIterator(\n\u001b[1;32m    386\u001b[0m         x\u001b[38;5;241m=\u001b[39mval_x,\n\u001b[1;32m    387\u001b[0m         y\u001b[38;5;241m=\u001b[39mval_y,\n\u001b[0;32m   (...)\u001b[0m\n\u001b[1;32m    393\u001b[0m         shuffle\u001b[38;5;241m=\u001b[39m\u001b[38;5;28;01mFalse\u001b[39;00m,\n\u001b[1;32m    394\u001b[0m     )\n\u001b[0;32m--> 395\u001b[0m val_logs \u001b[38;5;241m=\u001b[39m \u001b[38;5;28;43mself\u001b[39;49m\u001b[38;5;241;43m.\u001b[39;49m\u001b[43mevaluate\u001b[49m\u001b[43m(\u001b[49m\n\u001b[1;32m    396\u001b[0m \u001b[43m    \u001b[49m\u001b[43mx\u001b[49m\u001b[38;5;241;43m=\u001b[39;49m\u001b[43mval_x\u001b[49m\u001b[43m,\u001b[49m\n\u001b[1;32m    397\u001b[0m \u001b[43m    \u001b[49m\u001b[43my\u001b[49m\u001b[38;5;241;43m=\u001b[39;49m\u001b[43mval_y\u001b[49m\u001b[43m,\u001b[49m\n\u001b[1;32m    398\u001b[0m \u001b[43m    \u001b[49m\u001b[43msample_weight\u001b[49m\u001b[38;5;241;43m=\u001b[39;49m\u001b[43mval_sample_weight\u001b[49m\u001b[43m,\u001b[49m\n\u001b[1;32m    399\u001b[0m \u001b[43m    \u001b[49m\u001b[43mbatch_size\u001b[49m\u001b[38;5;241;43m=\u001b[39;49m\u001b[43mvalidation_batch_size\u001b[49m\u001b[43m \u001b[49m\u001b[38;5;129;43;01mor\u001b[39;49;00m\u001b[43m \u001b[49m\u001b[43mbatch_size\u001b[49m\u001b[43m,\u001b[49m\n\u001b[1;32m    400\u001b[0m \u001b[43m    \u001b[49m\u001b[43msteps\u001b[49m\u001b[38;5;241;43m=\u001b[39;49m\u001b[43mvalidation_steps\u001b[49m\u001b[43m,\u001b[49m\n\u001b[1;32m    401\u001b[0m \u001b[43m    \u001b[49m\u001b[43mcallbacks\u001b[49m\u001b[38;5;241;43m=\u001b[39;49m\u001b[43mcallbacks\u001b[49m\u001b[43m,\u001b[49m\n\u001b[1;32m    402\u001b[0m \u001b[43m    \u001b[49m\u001b[43mreturn_dict\u001b[49m\u001b[38;5;241;43m=\u001b[39;49m\u001b[38;5;28;43;01mTrue\u001b[39;49;00m\u001b[43m,\u001b[49m\n\u001b[1;32m    403\u001b[0m \u001b[43m    \u001b[49m\u001b[43m_use_cached_eval_dataset\u001b[49m\u001b[38;5;241;43m=\u001b[39;49m\u001b[38;5;28;43;01mTrue\u001b[39;49;00m\u001b[43m,\u001b[49m\n\u001b[1;32m    404\u001b[0m \u001b[43m\u001b[49m\u001b[43m)\u001b[49m\n\u001b[1;32m    405\u001b[0m val_logs \u001b[38;5;241m=\u001b[39m {\n\u001b[1;32m    406\u001b[0m     \u001b[38;5;124m\"\u001b[39m\u001b[38;5;124mval_\u001b[39m\u001b[38;5;124m\"\u001b[39m \u001b[38;5;241m+\u001b[39m name: val \u001b[38;5;28;01mfor\u001b[39;00m name, val \u001b[38;5;129;01min\u001b[39;00m val_logs\u001b[38;5;241m.\u001b[39mitems()\n\u001b[1;32m    407\u001b[0m }\n\u001b[1;32m    408\u001b[0m epoch_logs\u001b[38;5;241m.\u001b[39mupdate(val_logs)\n",
            "File \u001b[0;32m~/miniconda3/envs/curie/lib/python3.11/site-packages/keras/src/utils/traceback_utils.py:117\u001b[0m, in \u001b[0;36mfilter_traceback.<locals>.error_handler\u001b[0;34m(*args, **kwargs)\u001b[0m\n\u001b[1;32m    115\u001b[0m filtered_tb \u001b[38;5;241m=\u001b[39m \u001b[38;5;28;01mNone\u001b[39;00m\n\u001b[1;32m    116\u001b[0m \u001b[38;5;28;01mtry\u001b[39;00m:\n\u001b[0;32m--> 117\u001b[0m     \u001b[38;5;28;01mreturn\u001b[39;00m \u001b[43mfn\u001b[49m\u001b[43m(\u001b[49m\u001b[38;5;241;43m*\u001b[39;49m\u001b[43margs\u001b[49m\u001b[43m,\u001b[49m\u001b[43m \u001b[49m\u001b[38;5;241;43m*\u001b[39;49m\u001b[38;5;241;43m*\u001b[39;49m\u001b[43mkwargs\u001b[49m\u001b[43m)\u001b[49m\n\u001b[1;32m    118\u001b[0m \u001b[38;5;28;01mexcept\u001b[39;00m \u001b[38;5;167;01mException\u001b[39;00m \u001b[38;5;28;01mas\u001b[39;00m e:\n\u001b[1;32m    119\u001b[0m     filtered_tb \u001b[38;5;241m=\u001b[39m _process_traceback_frames(e\u001b[38;5;241m.\u001b[39m__traceback__)\n",
            "File \u001b[0;32m~/miniconda3/envs/curie/lib/python3.11/site-packages/keras/src/backend/tensorflow/trainer.py:482\u001b[0m, in \u001b[0;36mTensorFlowTrainer.evaluate\u001b[0;34m(self, x, y, batch_size, verbose, sample_weight, steps, callbacks, return_dict, **kwargs)\u001b[0m\n\u001b[1;32m    480\u001b[0m \u001b[38;5;28mself\u001b[39m\u001b[38;5;241m.\u001b[39mreset_metrics()\n\u001b[1;32m    481\u001b[0m \u001b[38;5;28;01mwith\u001b[39;00m epoch_iterator\u001b[38;5;241m.\u001b[39mcatch_stop_iteration():\n\u001b[0;32m--> 482\u001b[0m \u001b[43m    \u001b[49m\u001b[38;5;28;43;01mfor\u001b[39;49;00m\u001b[43m \u001b[49m\u001b[43mstep\u001b[49m\u001b[43m,\u001b[49m\u001b[43m \u001b[49m\u001b[43miterator\u001b[49m\u001b[43m \u001b[49m\u001b[38;5;129;43;01min\u001b[39;49;00m\u001b[43m \u001b[49m\u001b[43mepoch_iterator\u001b[49m\u001b[43m:\u001b[49m\n\u001b[1;32m    483\u001b[0m \u001b[43m        \u001b[49m\u001b[43mcallbacks\u001b[49m\u001b[38;5;241;43m.\u001b[39;49m\u001b[43mon_test_batch_begin\u001b[49m\u001b[43m(\u001b[49m\u001b[43mstep\u001b[49m\u001b[43m)\u001b[49m\n\u001b[1;32m    484\u001b[0m \u001b[43m        \u001b[49m\u001b[43mlogs\u001b[49m\u001b[43m \u001b[49m\u001b[38;5;241;43m=\u001b[39;49m\u001b[43m \u001b[49m\u001b[38;5;28;43mself\u001b[39;49m\u001b[38;5;241;43m.\u001b[39;49m\u001b[43mtest_function\u001b[49m\u001b[43m(\u001b[49m\u001b[43miterator\u001b[49m\u001b[43m)\u001b[49m\n",
            "File \u001b[0;32m~/miniconda3/envs/curie/lib/python3.11/site-packages/keras/src/backend/tensorflow/trainer.py:736\u001b[0m, in \u001b[0;36mTFEpochIterator.__next__\u001b[0;34m(self)\u001b[0m\n\u001b[1;32m    735\u001b[0m \u001b[38;5;28;01mdef\u001b[39;00m \u001b[38;5;21m__next__\u001b[39m(\u001b[38;5;28mself\u001b[39m):\n\u001b[0;32m--> 736\u001b[0m     \u001b[38;5;28;01mreturn\u001b[39;00m \u001b[38;5;28mnext\u001b[39m(\u001b[38;5;28mself\u001b[39m\u001b[38;5;241m.\u001b[39m_epoch_iterator)\n",
            "File \u001b[0;32m~/miniconda3/envs/curie/lib/python3.11/site-packages/keras/src/trainers/epoch_iterator.py:112\u001b[0m, in \u001b[0;36mEpochIterator._enumerate_iterator\u001b[0;34m(self)\u001b[0m\n\u001b[1;32m    110\u001b[0m         \u001b[38;5;28;01myield\u001b[39;00m step, \u001b[38;5;28mself\u001b[39m\u001b[38;5;241m.\u001b[39m_current_iterator\n\u001b[1;32m    111\u001b[0m     \u001b[38;5;28;01mif\u001b[39;00m \u001b[38;5;28mself\u001b[39m\u001b[38;5;241m.\u001b[39m_num_batches \u001b[38;5;129;01mand\u001b[39;00m \u001b[38;5;28mself\u001b[39m\u001b[38;5;241m.\u001b[39m_steps_seen \u001b[38;5;241m>\u001b[39m\u001b[38;5;241m=\u001b[39m \u001b[38;5;28mself\u001b[39m\u001b[38;5;241m.\u001b[39m_num_batches:\n\u001b[0;32m--> 112\u001b[0m         \u001b[38;5;28mself\u001b[39m\u001b[38;5;241m.\u001b[39m_current_iterator \u001b[38;5;241m=\u001b[39m \u001b[38;5;28miter\u001b[39m(\u001b[38;5;28mself\u001b[39m\u001b[38;5;241m.\u001b[39m_get_iterator())\n\u001b[1;32m    113\u001b[0m         \u001b[38;5;28mself\u001b[39m\u001b[38;5;241m.\u001b[39m_steps_seen \u001b[38;5;241m=\u001b[39m \u001b[38;5;241m0\u001b[39m\n\u001b[1;32m    114\u001b[0m \u001b[38;5;28;01melse\u001b[39;00m:\n",
            "File \u001b[0;32m~/miniconda3/envs/curie/lib/python3.11/site-packages/tensorflow/python/data/ops/dataset_ops.py:501\u001b[0m, in \u001b[0;36mDatasetV2.__iter__\u001b[0;34m(self)\u001b[0m\n\u001b[1;32m    499\u001b[0m \u001b[38;5;28;01mif\u001b[39;00m context\u001b[38;5;241m.\u001b[39mexecuting_eagerly() \u001b[38;5;129;01mor\u001b[39;00m ops\u001b[38;5;241m.\u001b[39minside_function():\n\u001b[1;32m    500\u001b[0m   \u001b[38;5;28;01mwith\u001b[39;00m ops\u001b[38;5;241m.\u001b[39mcolocate_with(\u001b[38;5;28mself\u001b[39m\u001b[38;5;241m.\u001b[39m_variant_tensor):\n\u001b[0;32m--> 501\u001b[0m     \u001b[38;5;28;01mreturn\u001b[39;00m \u001b[43miterator_ops\u001b[49m\u001b[38;5;241;43m.\u001b[39;49m\u001b[43mOwnedIterator\u001b[49m\u001b[43m(\u001b[49m\u001b[38;5;28;43mself\u001b[39;49m\u001b[43m)\u001b[49m\n\u001b[1;32m    502\u001b[0m \u001b[38;5;28;01melse\u001b[39;00m:\n\u001b[1;32m    503\u001b[0m   \u001b[38;5;28;01mraise\u001b[39;00m \u001b[38;5;167;01mRuntimeError\u001b[39;00m(\u001b[38;5;124m\"\u001b[39m\u001b[38;5;124m`tf.data.Dataset` only supports Python-style \u001b[39m\u001b[38;5;124m\"\u001b[39m\n\u001b[1;32m    504\u001b[0m                      \u001b[38;5;124m\"\u001b[39m\u001b[38;5;124miteration in eager mode or within tf.function.\u001b[39m\u001b[38;5;124m\"\u001b[39m)\n",
            "File \u001b[0;32m~/miniconda3/envs/curie/lib/python3.11/site-packages/tensorflow/python/data/ops/iterator_ops.py:709\u001b[0m, in \u001b[0;36mOwnedIterator.__init__\u001b[0;34m(self, dataset, components, element_spec)\u001b[0m\n\u001b[1;32m    705\u001b[0m   \u001b[38;5;28;01mif\u001b[39;00m (components \u001b[38;5;129;01mis\u001b[39;00m \u001b[38;5;129;01mnot\u001b[39;00m \u001b[38;5;28;01mNone\u001b[39;00m \u001b[38;5;129;01mor\u001b[39;00m element_spec \u001b[38;5;129;01mis\u001b[39;00m \u001b[38;5;129;01mnot\u001b[39;00m \u001b[38;5;28;01mNone\u001b[39;00m):\n\u001b[1;32m    706\u001b[0m     \u001b[38;5;28;01mraise\u001b[39;00m \u001b[38;5;167;01mValueError\u001b[39;00m(\n\u001b[1;32m    707\u001b[0m         \u001b[38;5;124m\"\u001b[39m\u001b[38;5;124mWhen `dataset` is provided, `element_spec` and `components` must \u001b[39m\u001b[38;5;124m\"\u001b[39m\n\u001b[1;32m    708\u001b[0m         \u001b[38;5;124m\"\u001b[39m\u001b[38;5;124mnot be specified.\u001b[39m\u001b[38;5;124m\"\u001b[39m)\n\u001b[0;32m--> 709\u001b[0m   \u001b[38;5;28;43mself\u001b[39;49m\u001b[38;5;241;43m.\u001b[39;49m\u001b[43m_create_iterator\u001b[49m\u001b[43m(\u001b[49m\u001b[43mdataset\u001b[49m\u001b[43m)\u001b[49m\n\u001b[1;32m    711\u001b[0m \u001b[38;5;28mself\u001b[39m\u001b[38;5;241m.\u001b[39m_get_next_call_count \u001b[38;5;241m=\u001b[39m \u001b[38;5;241m0\u001b[39m\n",
            "File \u001b[0;32m~/miniconda3/envs/curie/lib/python3.11/site-packages/tensorflow/python/data/ops/iterator_ops.py:748\u001b[0m, in \u001b[0;36mOwnedIterator._create_iterator\u001b[0;34m(self, dataset)\u001b[0m\n\u001b[1;32m    745\u001b[0m   \u001b[38;5;28;01massert\u001b[39;00m \u001b[38;5;28mlen\u001b[39m(fulltype\u001b[38;5;241m.\u001b[39margs[\u001b[38;5;241m0\u001b[39m]\u001b[38;5;241m.\u001b[39margs[\u001b[38;5;241m0\u001b[39m]\u001b[38;5;241m.\u001b[39margs) \u001b[38;5;241m==\u001b[39m \u001b[38;5;28mlen\u001b[39m(\n\u001b[1;32m    746\u001b[0m       \u001b[38;5;28mself\u001b[39m\u001b[38;5;241m.\u001b[39m_flat_output_types)\n\u001b[1;32m    747\u001b[0m   \u001b[38;5;28mself\u001b[39m\u001b[38;5;241m.\u001b[39m_iterator_resource\u001b[38;5;241m.\u001b[39mop\u001b[38;5;241m.\u001b[39mexperimental_set_type(fulltype)\n\u001b[0;32m--> 748\u001b[0m \u001b[43mgen_dataset_ops\u001b[49m\u001b[38;5;241;43m.\u001b[39;49m\u001b[43mmake_iterator\u001b[49m\u001b[43m(\u001b[49m\u001b[43mds_variant\u001b[49m\u001b[43m,\u001b[49m\u001b[43m \u001b[49m\u001b[38;5;28;43mself\u001b[39;49m\u001b[38;5;241;43m.\u001b[39;49m\u001b[43m_iterator_resource\u001b[49m\u001b[43m)\u001b[49m\n",
            "File \u001b[0;32m~/miniconda3/envs/curie/lib/python3.11/site-packages/tensorflow/python/ops/gen_dataset_ops.py:3478\u001b[0m, in \u001b[0;36mmake_iterator\u001b[0;34m(dataset, iterator, name)\u001b[0m\n\u001b[1;32m   3476\u001b[0m \u001b[38;5;28;01mif\u001b[39;00m tld\u001b[38;5;241m.\u001b[39mis_eager:\n\u001b[1;32m   3477\u001b[0m   \u001b[38;5;28;01mtry\u001b[39;00m:\n\u001b[0;32m-> 3478\u001b[0m     _result \u001b[38;5;241m=\u001b[39m \u001b[43mpywrap_tfe\u001b[49m\u001b[38;5;241;43m.\u001b[39;49m\u001b[43mTFE_Py_FastPathExecute\u001b[49m\u001b[43m(\u001b[49m\n\u001b[1;32m   3479\u001b[0m \u001b[43m      \u001b[49m\u001b[43m_ctx\u001b[49m\u001b[43m,\u001b[49m\u001b[43m \u001b[49m\u001b[38;5;124;43m\"\u001b[39;49m\u001b[38;5;124;43mMakeIterator\u001b[39;49m\u001b[38;5;124;43m\"\u001b[39;49m\u001b[43m,\u001b[49m\u001b[43m \u001b[49m\u001b[43mname\u001b[49m\u001b[43m,\u001b[49m\u001b[43m \u001b[49m\u001b[43mdataset\u001b[49m\u001b[43m,\u001b[49m\u001b[43m \u001b[49m\u001b[43miterator\u001b[49m\u001b[43m)\u001b[49m\n\u001b[1;32m   3480\u001b[0m     \u001b[38;5;28;01mreturn\u001b[39;00m _result\n\u001b[1;32m   3481\u001b[0m   \u001b[38;5;28;01mexcept\u001b[39;00m _core\u001b[38;5;241m.\u001b[39m_NotOkStatusException \u001b[38;5;28;01mas\u001b[39;00m e:\n",
            "\u001b[0;31mKeyboardInterrupt\u001b[0m: "
          ]
        }
      ],
      "source": [
        "# r2=0\n",
        "\n",
        "# for hidden_layer_one in [25,50,75,100,125,150,175,200,225,350,300,350,400]:\n",
        "#   for hidden_layer_two in [325,50,75,100,125,150,175,200,225,350,300,350,400]:\n",
        "#       for dropout_one in [0,0.1,0.2,0.3,0.4,0.5]:\n",
        "#         for dropout_two in [0,0.1,0.2,0.3,0.4,0.5]:\n",
        "#           # for batch_size in [32,64,128,256]:\n",
        "\n",
        "\n",
        "#             model=get_mlp_model(input_shape=(X_train.shape[1],),hidden_layer_one=hidden_layer_one,dropout_one=dropout_one,hidden_layer_two=hidden_layer_two,dropout_two=dropout_two)\n",
        "\n",
        "#             # Define the ModelCheckpoint callback\n",
        "#             checkpoint_filepath = 'model_checkpoint.h5'\n",
        "#             model_checkpoint = ModelCheckpoint(\n",
        "#                 filepath=checkpoint_filepath,\n",
        "#                 save_best_only=True,\n",
        "#                 monitor='val_loss',\n",
        "#                 mode='min',\n",
        "#                 verbose=0\n",
        "#             )\n",
        "\n",
        "#             # Train the model on the training data with validation data and checkpoint callback\n",
        "#             history = model.fit(X_train, y_train, epochs=300, batch_size=256,\n",
        "#                                 verbose=0, validation_data=(X_val, y_val),\n",
        "#                                 callbacks=[model_checkpoint])\n",
        "\n",
        "#             # Load the best weights from the saved checkpoint\n",
        "#             model.load_weights(checkpoint_filepath)\n",
        "\n",
        "#             # Evaluate the performance of the model on the test set\n",
        "#             y_test_pred = model.predict(X_test)\n",
        "\n",
        "#             # Calculate performance metrics\n",
        "#             mse_test = mean_squared_error(y_test, y_test_pred)\n",
        "#             rmse2, corr2, mae2, rae2, rrse2, mape2, r2_2 = compute_error(y_test.values, y_test_pred.reshape(y_test_pred.shape[0]))\n",
        "\n",
        "#             if r2_2>r2:\n",
        "#               r2=r2_2\n",
        "#               print(\"{},{},{},{}\".format(hidden_layer_one,hidden_layer_two,dropout_one,dropout_two) )\n",
        "#               print(\"RMSE:\", rmse2)\n",
        "#               print(\"Corrélation:\", corr2)\n",
        "#               print(\"MAE:\", mae2)\n",
        "#               print(\"RAE:\", rae2)\n",
        "#               print(\"RRSE:\", rrse2)\n",
        "#               print(\"MAPE:\", mape2)\n",
        "#               print(\"R2:\", r2_2)\n",
        "#               print(\"MSE:\", mse_test)\n",
        "#               print(\"----------------------------------\")"
      ]
    },
    {
      "attachments": {},
      "cell_type": "markdown",
      "metadata": {
        "id": "0fXRG0VmcinZ"
      },
      "source": [
        "Training model with best hyperparamters"
      ]
    },
    {
      "cell_type": "code",
      "execution_count": 16,
      "metadata": {
        "colab": {
          "base_uri": "https://localhost:8080/"
        },
        "id": "o1l_cOCQyyXH",
        "outputId": "cc03c112-6f37-424a-8b44-1782197d1ff0"
      },
      "outputs": [
        {
          "name": "stdout",
          "output_type": "stream",
          "text": [
            "Epoch 1/300\n"
          ]
        },
        {
          "name": "stderr",
          "output_type": "stream",
          "text": [
            "/home/usman/miniconda3/envs/curie/lib/python3.11/site-packages/keras/src/layers/core/dense.py:87: UserWarning: Do not pass an `input_shape`/`input_dim` argument to a layer. When using Sequential models, prefer using an `Input(shape)` object as the first layer in the model instead.\n",
            "  super().__init__(activity_regularizer=activity_regularizer, **kwargs)\n",
            "WARNING:absl:You are saving your model as an HDF5 file via `model.save()` or `keras.saving.save_model(model)`. This file format is considered legacy. We recommend using instead the native Keras format, e.g. `model.save('my_model.keras')` or `keras.saving.save_model(model, 'my_model.keras')`. \n"
          ]
        },
        {
          "name": "stdout",
          "output_type": "stream",
          "text": [
            "15/15 - 1s - 49ms/step - loss: 4363630.0000 - val_loss: 239383.0156\n",
            "Epoch 2/300\n"
          ]
        },
        {
          "name": "stderr",
          "output_type": "stream",
          "text": [
            "WARNING:absl:You are saving your model as an HDF5 file via `model.save()` or `keras.saving.save_model(model)`. This file format is considered legacy. We recommend using instead the native Keras format, e.g. `model.save('my_model.keras')` or `keras.saving.save_model(model, 'my_model.keras')`. \n"
          ]
        },
        {
          "name": "stdout",
          "output_type": "stream",
          "text": [
            "15/15 - 0s - 6ms/step - loss: 1634522.7500 - val_loss: 71554.6797\n",
            "Epoch 3/300\n"
          ]
        },
        {
          "name": "stderr",
          "output_type": "stream",
          "text": [
            "WARNING:absl:You are saving your model as an HDF5 file via `model.save()` or `keras.saving.save_model(model)`. This file format is considered legacy. We recommend using instead the native Keras format, e.g. `model.save('my_model.keras')` or `keras.saving.save_model(model, 'my_model.keras')`. \n"
          ]
        },
        {
          "name": "stdout",
          "output_type": "stream",
          "text": [
            "15/15 - 0s - 6ms/step - loss: 913646.9375 - val_loss: 29128.1953\n",
            "Epoch 4/300\n"
          ]
        },
        {
          "name": "stderr",
          "output_type": "stream",
          "text": [
            "WARNING:absl:You are saving your model as an HDF5 file via `model.save()` or `keras.saving.save_model(model)`. This file format is considered legacy. We recommend using instead the native Keras format, e.g. `model.save('my_model.keras')` or `keras.saving.save_model(model, 'my_model.keras')`. \n"
          ]
        },
        {
          "name": "stdout",
          "output_type": "stream",
          "text": [
            "15/15 - 0s - 6ms/step - loss: 541445.9375 - val_loss: 28032.0176\n",
            "Epoch 5/300\n",
            "15/15 - 0s - 5ms/step - loss: 357296.9688 - val_loss: 29334.2012\n",
            "Epoch 6/300\n",
            "15/15 - 0s - 5ms/step - loss: 261212.2188 - val_loss: 35198.3125\n",
            "Epoch 7/300\n",
            "15/15 - 0s - 5ms/step - loss: 197687.3750 - val_loss: 29196.2051\n",
            "Epoch 8/300\n"
          ]
        },
        {
          "name": "stderr",
          "output_type": "stream",
          "text": [
            "WARNING:absl:You are saving your model as an HDF5 file via `model.save()` or `keras.saving.save_model(model)`. This file format is considered legacy. We recommend using instead the native Keras format, e.g. `model.save('my_model.keras')` or `keras.saving.save_model(model, 'my_model.keras')`. \n"
          ]
        },
        {
          "name": "stdout",
          "output_type": "stream",
          "text": [
            "15/15 - 0s - 5ms/step - loss: 144638.3750 - val_loss: 27499.9453\n",
            "Epoch 9/300\n"
          ]
        },
        {
          "name": "stderr",
          "output_type": "stream",
          "text": [
            "WARNING:absl:You are saving your model as an HDF5 file via `model.save()` or `keras.saving.save_model(model)`. This file format is considered legacy. We recommend using instead the native Keras format, e.g. `model.save('my_model.keras')` or `keras.saving.save_model(model, 'my_model.keras')`. \n"
          ]
        },
        {
          "name": "stdout",
          "output_type": "stream",
          "text": [
            "15/15 - 0s - 8ms/step - loss: 118359.7266 - val_loss: 26751.9512\n",
            "Epoch 10/300\n"
          ]
        },
        {
          "name": "stderr",
          "output_type": "stream",
          "text": [
            "WARNING:absl:You are saving your model as an HDF5 file via `model.save()` or `keras.saving.save_model(model)`. This file format is considered legacy. We recommend using instead the native Keras format, e.g. `model.save('my_model.keras')` or `keras.saving.save_model(model, 'my_model.keras')`. \n"
          ]
        },
        {
          "name": "stdout",
          "output_type": "stream",
          "text": [
            "15/15 - 0s - 6ms/step - loss: 93652.0391 - val_loss: 25596.9980\n",
            "Epoch 11/300\n"
          ]
        },
        {
          "name": "stderr",
          "output_type": "stream",
          "text": [
            "WARNING:absl:You are saving your model as an HDF5 file via `model.save()` or `keras.saving.save_model(model)`. This file format is considered legacy. We recommend using instead the native Keras format, e.g. `model.save('my_model.keras')` or `keras.saving.save_model(model, 'my_model.keras')`. \n"
          ]
        },
        {
          "name": "stdout",
          "output_type": "stream",
          "text": [
            "15/15 - 0s - 6ms/step - loss: 81179.0156 - val_loss: 25180.6348\n",
            "Epoch 12/300\n",
            "15/15 - 0s - 6ms/step - loss: 70793.5625 - val_loss: 26484.6621\n",
            "Epoch 13/300\n"
          ]
        },
        {
          "name": "stderr",
          "output_type": "stream",
          "text": [
            "WARNING:absl:You are saving your model as an HDF5 file via `model.save()` or `keras.saving.save_model(model)`. This file format is considered legacy. We recommend using instead the native Keras format, e.g. `model.save('my_model.keras')` or `keras.saving.save_model(model, 'my_model.keras')`. \n"
          ]
        },
        {
          "name": "stdout",
          "output_type": "stream",
          "text": [
            "15/15 - 0s - 5ms/step - loss: 61472.7422 - val_loss: 24979.0098\n",
            "Epoch 14/300\n",
            "15/15 - 0s - 5ms/step - loss: 55843.3867 - val_loss: 25560.7871\n",
            "Epoch 15/300\n",
            "15/15 - 0s - 5ms/step - loss: 49538.3125 - val_loss: 26686.8359\n",
            "Epoch 16/300\n"
          ]
        },
        {
          "name": "stderr",
          "output_type": "stream",
          "text": [
            "WARNING:absl:You are saving your model as an HDF5 file via `model.save()` or `keras.saving.save_model(model)`. This file format is considered legacy. We recommend using instead the native Keras format, e.g. `model.save('my_model.keras')` or `keras.saving.save_model(model, 'my_model.keras')`. \n"
          ]
        },
        {
          "name": "stdout",
          "output_type": "stream",
          "text": [
            "15/15 - 0s - 5ms/step - loss: 46692.4570 - val_loss: 24207.1504\n",
            "Epoch 17/300\n",
            "15/15 - 0s - 5ms/step - loss: 42359.6719 - val_loss: 25672.9277\n",
            "Epoch 18/300\n"
          ]
        },
        {
          "name": "stderr",
          "output_type": "stream",
          "text": [
            "WARNING:absl:You are saving your model as an HDF5 file via `model.save()` or `keras.saving.save_model(model)`. This file format is considered legacy. We recommend using instead the native Keras format, e.g. `model.save('my_model.keras')` or `keras.saving.save_model(model, 'my_model.keras')`. \n"
          ]
        },
        {
          "name": "stdout",
          "output_type": "stream",
          "text": [
            "15/15 - 0s - 6ms/step - loss: 39679.4648 - val_loss: 23513.1953\n",
            "Epoch 19/300\n",
            "15/15 - 0s - 5ms/step - loss: 36948.4531 - val_loss: 24637.8633\n",
            "Epoch 20/300\n",
            "15/15 - 0s - 5ms/step - loss: 34835.8398 - val_loss: 23522.7871\n",
            "Epoch 21/300\n"
          ]
        },
        {
          "name": "stderr",
          "output_type": "stream",
          "text": [
            "WARNING:absl:You are saving your model as an HDF5 file via `model.save()` or `keras.saving.save_model(model)`. This file format is considered legacy. We recommend using instead the native Keras format, e.g. `model.save('my_model.keras')` or `keras.saving.save_model(model, 'my_model.keras')`. \n"
          ]
        },
        {
          "name": "stdout",
          "output_type": "stream",
          "text": [
            "15/15 - 0s - 5ms/step - loss: 33433.5586 - val_loss: 23194.1152\n",
            "Epoch 22/300\n"
          ]
        },
        {
          "name": "stderr",
          "output_type": "stream",
          "text": [
            "WARNING:absl:You are saving your model as an HDF5 file via `model.save()` or `keras.saving.save_model(model)`. This file format is considered legacy. We recommend using instead the native Keras format, e.g. `model.save('my_model.keras')` or `keras.saving.save_model(model, 'my_model.keras')`. \n"
          ]
        },
        {
          "name": "stdout",
          "output_type": "stream",
          "text": [
            "15/15 - 0s - 6ms/step - loss: 32346.3027 - val_loss: 22066.4961\n",
            "Epoch 23/300\n"
          ]
        },
        {
          "name": "stderr",
          "output_type": "stream",
          "text": [
            "WARNING:absl:You are saving your model as an HDF5 file via `model.save()` or `keras.saving.save_model(model)`. This file format is considered legacy. We recommend using instead the native Keras format, e.g. `model.save('my_model.keras')` or `keras.saving.save_model(model, 'my_model.keras')`. \n"
          ]
        },
        {
          "name": "stdout",
          "output_type": "stream",
          "text": [
            "15/15 - 0s - 6ms/step - loss: 30980.3672 - val_loss: 21939.0410\n",
            "Epoch 24/300\n"
          ]
        },
        {
          "name": "stderr",
          "output_type": "stream",
          "text": [
            "WARNING:absl:You are saving your model as an HDF5 file via `model.save()` or `keras.saving.save_model(model)`. This file format is considered legacy. We recommend using instead the native Keras format, e.g. `model.save('my_model.keras')` or `keras.saving.save_model(model, 'my_model.keras')`. \n"
          ]
        },
        {
          "name": "stdout",
          "output_type": "stream",
          "text": [
            "15/15 - 0s - 7ms/step - loss: 29375.8477 - val_loss: 20175.3965\n",
            "Epoch 25/300\n",
            "15/15 - 0s - 5ms/step - loss: 28242.5215 - val_loss: 21263.8535\n",
            "Epoch 26/300\n",
            "15/15 - 0s - 5ms/step - loss: 26370.6074 - val_loss: 20371.6875\n",
            "Epoch 27/300\n",
            "15/15 - 0s - 5ms/step - loss: 25090.2383 - val_loss: 21611.5254\n",
            "Epoch 28/300\n"
          ]
        },
        {
          "name": "stderr",
          "output_type": "stream",
          "text": [
            "WARNING:absl:You are saving your model as an HDF5 file via `model.save()` or `keras.saving.save_model(model)`. This file format is considered legacy. We recommend using instead the native Keras format, e.g. `model.save('my_model.keras')` or `keras.saving.save_model(model, 'my_model.keras')`. \n"
          ]
        },
        {
          "name": "stdout",
          "output_type": "stream",
          "text": [
            "15/15 - 0s - 5ms/step - loss: 24240.9473 - val_loss: 20114.8887\n",
            "Epoch 29/300\n"
          ]
        },
        {
          "name": "stderr",
          "output_type": "stream",
          "text": [
            "WARNING:absl:You are saving your model as an HDF5 file via `model.save()` or `keras.saving.save_model(model)`. This file format is considered legacy. We recommend using instead the native Keras format, e.g. `model.save('my_model.keras')` or `keras.saving.save_model(model, 'my_model.keras')`. \n"
          ]
        },
        {
          "name": "stdout",
          "output_type": "stream",
          "text": [
            "15/15 - 0s - 6ms/step - loss: 23012.5840 - val_loss: 18374.5098\n",
            "Epoch 30/300\n"
          ]
        },
        {
          "name": "stderr",
          "output_type": "stream",
          "text": [
            "WARNING:absl:You are saving your model as an HDF5 file via `model.save()` or `keras.saving.save_model(model)`. This file format is considered legacy. We recommend using instead the native Keras format, e.g. `model.save('my_model.keras')` or `keras.saving.save_model(model, 'my_model.keras')`. \n"
          ]
        },
        {
          "name": "stdout",
          "output_type": "stream",
          "text": [
            "15/15 - 0s - 6ms/step - loss: 22331.7344 - val_loss: 15527.8662\n",
            "Epoch 31/300\n"
          ]
        },
        {
          "name": "stderr",
          "output_type": "stream",
          "text": [
            "WARNING:absl:You are saving your model as an HDF5 file via `model.save()` or `keras.saving.save_model(model)`. This file format is considered legacy. We recommend using instead the native Keras format, e.g. `model.save('my_model.keras')` or `keras.saving.save_model(model, 'my_model.keras')`. \n"
          ]
        },
        {
          "name": "stdout",
          "output_type": "stream",
          "text": [
            "15/15 - 0s - 6ms/step - loss: 22317.3906 - val_loss: 14765.0410\n",
            "Epoch 32/300\n",
            "15/15 - 0s - 5ms/step - loss: 20330.8984 - val_loss: 15198.1797\n",
            "Epoch 33/300\n",
            "15/15 - 0s - 5ms/step - loss: 19523.0527 - val_loss: 16026.2285\n",
            "Epoch 34/300\n",
            "15/15 - 0s - 5ms/step - loss: 18697.3789 - val_loss: 17204.4297\n",
            "Epoch 35/300\n"
          ]
        },
        {
          "name": "stderr",
          "output_type": "stream",
          "text": [
            "WARNING:absl:You are saving your model as an HDF5 file via `model.save()` or `keras.saving.save_model(model)`. This file format is considered legacy. We recommend using instead the native Keras format, e.g. `model.save('my_model.keras')` or `keras.saving.save_model(model, 'my_model.keras')`. \n"
          ]
        },
        {
          "name": "stdout",
          "output_type": "stream",
          "text": [
            "15/15 - 0s - 5ms/step - loss: 18202.7773 - val_loss: 13822.6729\n",
            "Epoch 36/300\n"
          ]
        },
        {
          "name": "stderr",
          "output_type": "stream",
          "text": [
            "WARNING:absl:You are saving your model as an HDF5 file via `model.save()` or `keras.saving.save_model(model)`. This file format is considered legacy. We recommend using instead the native Keras format, e.g. `model.save('my_model.keras')` or `keras.saving.save_model(model, 'my_model.keras')`. \n"
          ]
        },
        {
          "name": "stdout",
          "output_type": "stream",
          "text": [
            "15/15 - 0s - 6ms/step - loss: 17621.3203 - val_loss: 13279.0879\n",
            "Epoch 37/300\n"
          ]
        },
        {
          "name": "stderr",
          "output_type": "stream",
          "text": [
            "WARNING:absl:You are saving your model as an HDF5 file via `model.save()` or `keras.saving.save_model(model)`. This file format is considered legacy. We recommend using instead the native Keras format, e.g. `model.save('my_model.keras')` or `keras.saving.save_model(model, 'my_model.keras')`. \n"
          ]
        },
        {
          "name": "stdout",
          "output_type": "stream",
          "text": [
            "15/15 - 0s - 6ms/step - loss: 16761.3496 - val_loss: 12464.6260\n",
            "Epoch 38/300\n"
          ]
        },
        {
          "name": "stderr",
          "output_type": "stream",
          "text": [
            "WARNING:absl:You are saving your model as an HDF5 file via `model.save()` or `keras.saving.save_model(model)`. This file format is considered legacy. We recommend using instead the native Keras format, e.g. `model.save('my_model.keras')` or `keras.saving.save_model(model, 'my_model.keras')`. \n"
          ]
        },
        {
          "name": "stdout",
          "output_type": "stream",
          "text": [
            "15/15 - 0s - 6ms/step - loss: 16241.1250 - val_loss: 10967.3828\n",
            "Epoch 39/300\n",
            "15/15 - 0s - 7ms/step - loss: 15738.8984 - val_loss: 11817.3828\n",
            "Epoch 40/300\n"
          ]
        },
        {
          "name": "stderr",
          "output_type": "stream",
          "text": [
            "WARNING:absl:You are saving your model as an HDF5 file via `model.save()` or `keras.saving.save_model(model)`. This file format is considered legacy. We recommend using instead the native Keras format, e.g. `model.save('my_model.keras')` or `keras.saving.save_model(model, 'my_model.keras')`. \n"
          ]
        },
        {
          "name": "stdout",
          "output_type": "stream",
          "text": [
            "15/15 - 0s - 6ms/step - loss: 14982.9365 - val_loss: 8061.8062\n",
            "Epoch 41/300\n",
            "15/15 - 0s - 5ms/step - loss: 14172.9453 - val_loss: 11240.0469\n",
            "Epoch 42/300\n"
          ]
        },
        {
          "name": "stderr",
          "output_type": "stream",
          "text": [
            "WARNING:absl:You are saving your model as an HDF5 file via `model.save()` or `keras.saving.save_model(model)`. This file format is considered legacy. We recommend using instead the native Keras format, e.g. `model.save('my_model.keras')` or `keras.saving.save_model(model, 'my_model.keras')`. \n"
          ]
        },
        {
          "name": "stdout",
          "output_type": "stream",
          "text": [
            "15/15 - 0s - 5ms/step - loss: 13412.9912 - val_loss: 7665.2480\n",
            "Epoch 43/300\n"
          ]
        },
        {
          "name": "stderr",
          "output_type": "stream",
          "text": [
            "WARNING:absl:You are saving your model as an HDF5 file via `model.save()` or `keras.saving.save_model(model)`. This file format is considered legacy. We recommend using instead the native Keras format, e.g. `model.save('my_model.keras')` or `keras.saving.save_model(model, 'my_model.keras')`. \n"
          ]
        },
        {
          "name": "stdout",
          "output_type": "stream",
          "text": [
            "15/15 - 0s - 6ms/step - loss: 12933.1963 - val_loss: 6211.1377\n",
            "Epoch 44/300\n",
            "15/15 - 0s - 5ms/step - loss: 12462.4248 - val_loss: 7215.4751\n",
            "Epoch 45/300\n"
          ]
        },
        {
          "name": "stderr",
          "output_type": "stream",
          "text": [
            "WARNING:absl:You are saving your model as an HDF5 file via `model.save()` or `keras.saving.save_model(model)`. This file format is considered legacy. We recommend using instead the native Keras format, e.g. `model.save('my_model.keras')` or `keras.saving.save_model(model, 'my_model.keras')`. \n"
          ]
        },
        {
          "name": "stdout",
          "output_type": "stream",
          "text": [
            "15/15 - 0s - 5ms/step - loss: 12018.5430 - val_loss: 4752.2134\n",
            "Epoch 46/300\n",
            "15/15 - 0s - 5ms/step - loss: 11994.5293 - val_loss: 5388.2471\n",
            "Epoch 47/300\n",
            "15/15 - 0s - 5ms/step - loss: 10731.1934 - val_loss: 6396.3672\n",
            "Epoch 48/300\n",
            "15/15 - 0s - 5ms/step - loss: 10441.1172 - val_loss: 6204.5850\n",
            "Epoch 49/300\n",
            "15/15 - 0s - 5ms/step - loss: 10264.1260 - val_loss: 7259.8501\n",
            "Epoch 50/300\n"
          ]
        },
        {
          "name": "stderr",
          "output_type": "stream",
          "text": [
            "WARNING:absl:You are saving your model as an HDF5 file via `model.save()` or `keras.saving.save_model(model)`. This file format is considered legacy. We recommend using instead the native Keras format, e.g. `model.save('my_model.keras')` or `keras.saving.save_model(model, 'my_model.keras')`. \n"
          ]
        },
        {
          "name": "stdout",
          "output_type": "stream",
          "text": [
            "15/15 - 0s - 5ms/step - loss: 9854.1172 - val_loss: 4226.7612\n",
            "Epoch 51/300\n"
          ]
        },
        {
          "name": "stderr",
          "output_type": "stream",
          "text": [
            "WARNING:absl:You are saving your model as an HDF5 file via `model.save()` or `keras.saving.save_model(model)`. This file format is considered legacy. We recommend using instead the native Keras format, e.g. `model.save('my_model.keras')` or `keras.saving.save_model(model, 'my_model.keras')`. \n"
          ]
        },
        {
          "name": "stdout",
          "output_type": "stream",
          "text": [
            "15/15 - 0s - 6ms/step - loss: 9735.3447 - val_loss: 4132.3711\n",
            "Epoch 52/300\n",
            "15/15 - 0s - 5ms/step - loss: 9030.2920 - val_loss: 7067.3594\n",
            "Epoch 53/300\n",
            "15/15 - 0s - 5ms/step - loss: 10001.8203 - val_loss: 4739.8496\n",
            "Epoch 54/300\n"
          ]
        },
        {
          "name": "stderr",
          "output_type": "stream",
          "text": [
            "WARNING:absl:You are saving your model as an HDF5 file via `model.save()` or `keras.saving.save_model(model)`. This file format is considered legacy. We recommend using instead the native Keras format, e.g. `model.save('my_model.keras')` or `keras.saving.save_model(model, 'my_model.keras')`. \n"
          ]
        },
        {
          "name": "stdout",
          "output_type": "stream",
          "text": [
            "15/15 - 0s - 6ms/step - loss: 9507.7959 - val_loss: 1744.2216\n",
            "Epoch 55/300\n",
            "15/15 - 0s - 5ms/step - loss: 9431.8564 - val_loss: 6642.9541\n",
            "Epoch 56/300\n",
            "15/15 - 0s - 5ms/step - loss: 9646.8564 - val_loss: 4147.3345\n",
            "Epoch 57/300\n",
            "15/15 - 0s - 5ms/step - loss: 8735.5596 - val_loss: 3534.4478\n",
            "Epoch 58/300\n",
            "15/15 - 0s - 5ms/step - loss: 8553.0283 - val_loss: 2204.8823\n",
            "Epoch 59/300\n",
            "15/15 - 0s - 5ms/step - loss: 8608.4678 - val_loss: 2213.6519\n",
            "Epoch 60/300\n"
          ]
        },
        {
          "name": "stderr",
          "output_type": "stream",
          "text": [
            "WARNING:absl:You are saving your model as an HDF5 file via `model.save()` or `keras.saving.save_model(model)`. This file format is considered legacy. We recommend using instead the native Keras format, e.g. `model.save('my_model.keras')` or `keras.saving.save_model(model, 'my_model.keras')`. \n"
          ]
        },
        {
          "name": "stdout",
          "output_type": "stream",
          "text": [
            "15/15 - 0s - 6ms/step - loss: 8236.3213 - val_loss: 1386.9896\n",
            "Epoch 61/300\n",
            "15/15 - 0s - 7ms/step - loss: 8251.7598 - val_loss: 2963.3032\n",
            "Epoch 62/300\n",
            "15/15 - 0s - 5ms/step - loss: 8115.0029 - val_loss: 2711.2764\n",
            "Epoch 63/300\n",
            "15/15 - 0s - 5ms/step - loss: 7744.2705 - val_loss: 3036.2964\n",
            "Epoch 64/300\n",
            "15/15 - 0s - 5ms/step - loss: 7717.1382 - val_loss: 2236.1084\n",
            "Epoch 65/300\n",
            "15/15 - 0s - 5ms/step - loss: 7457.0566 - val_loss: 5274.8145\n",
            "Epoch 66/300\n",
            "15/15 - 0s - 5ms/step - loss: 7679.0366 - val_loss: 2786.0229\n",
            "Epoch 67/300\n",
            "15/15 - 0s - 5ms/step - loss: 8216.3887 - val_loss: 3975.7783\n",
            "Epoch 68/300\n",
            "15/15 - 0s - 5ms/step - loss: 7343.6768 - val_loss: 5783.5122\n",
            "Epoch 69/300\n",
            "15/15 - 0s - 5ms/step - loss: 7122.1890 - val_loss: 5384.1919\n",
            "Epoch 70/300\n",
            "15/15 - 0s - 5ms/step - loss: 7227.8843 - val_loss: 3261.4292\n",
            "Epoch 71/300\n",
            "15/15 - 0s - 5ms/step - loss: 6937.3628 - val_loss: 4708.6987\n",
            "Epoch 72/300\n",
            "15/15 - 0s - 5ms/step - loss: 6878.0171 - val_loss: 4282.5093\n",
            "Epoch 73/300\n",
            "15/15 - 0s - 5ms/step - loss: 6617.8096 - val_loss: 3176.0571\n",
            "Epoch 74/300\n",
            "15/15 - 0s - 5ms/step - loss: 6486.3770 - val_loss: 3869.7532\n",
            "Epoch 75/300\n",
            "15/15 - 0s - 5ms/step - loss: 6534.4194 - val_loss: 2043.7921\n",
            "Epoch 76/300\n",
            "15/15 - 0s - 5ms/step - loss: 6512.2153 - val_loss: 2691.3784\n",
            "Epoch 77/300\n",
            "15/15 - 0s - 6ms/step - loss: 6409.7637 - val_loss: 2248.7153\n",
            "Epoch 78/300\n",
            "15/15 - 0s - 5ms/step - loss: 5989.5806 - val_loss: 2656.5383\n",
            "Epoch 79/300\n",
            "15/15 - 0s - 5ms/step - loss: 6088.0605 - val_loss: 2165.0833\n",
            "Epoch 80/300\n",
            "15/15 - 0s - 5ms/step - loss: 6289.9443 - val_loss: 3401.3425\n",
            "Epoch 81/300\n",
            "15/15 - 0s - 5ms/step - loss: 6051.5854 - val_loss: 4164.0029\n",
            "Epoch 82/300\n",
            "15/15 - 0s - 5ms/step - loss: 5616.6890 - val_loss: 2594.3489\n",
            "Epoch 83/300\n",
            "15/15 - 0s - 5ms/step - loss: 5818.2598 - val_loss: 5046.7227\n",
            "Epoch 84/300\n",
            "15/15 - 0s - 5ms/step - loss: 5669.5635 - val_loss: 4196.3198\n",
            "Epoch 85/300\n"
          ]
        },
        {
          "name": "stderr",
          "output_type": "stream",
          "text": [
            "WARNING:absl:You are saving your model as an HDF5 file via `model.save()` or `keras.saving.save_model(model)`. This file format is considered legacy. We recommend using instead the native Keras format, e.g. `model.save('my_model.keras')` or `keras.saving.save_model(model, 'my_model.keras')`. \n"
          ]
        },
        {
          "name": "stdout",
          "output_type": "stream",
          "text": [
            "15/15 - 0s - 6ms/step - loss: 5411.8369 - val_loss: 1118.9254\n",
            "Epoch 86/300\n",
            "15/15 - 0s - 6ms/step - loss: 5724.7212 - val_loss: 4482.6333\n",
            "Epoch 87/300\n",
            "15/15 - 0s - 5ms/step - loss: 5078.3965 - val_loss: 5438.6953\n",
            "Epoch 88/300\n",
            "15/15 - 0s - 5ms/step - loss: 5084.4717 - val_loss: 5483.6504\n",
            "Epoch 89/300\n",
            "15/15 - 0s - 5ms/step - loss: 5110.7324 - val_loss: 3518.7659\n",
            "Epoch 90/300\n",
            "15/15 - 0s - 5ms/step - loss: 5085.8057 - val_loss: 2869.1829\n",
            "Epoch 91/300\n",
            "15/15 - 0s - 5ms/step - loss: 5247.4863 - val_loss: 6764.8081\n",
            "Epoch 92/300\n",
            "15/15 - 0s - 5ms/step - loss: 4833.8994 - val_loss: 6873.5400\n",
            "Epoch 93/300\n",
            "15/15 - 0s - 5ms/step - loss: 4657.0068 - val_loss: 4220.2407\n",
            "Epoch 94/300\n",
            "15/15 - 0s - 5ms/step - loss: 4361.8750 - val_loss: 3840.3740\n",
            "Epoch 95/300\n",
            "15/15 - 0s - 5ms/step - loss: 4646.6021 - val_loss: 3648.5317\n",
            "Epoch 96/300\n",
            "15/15 - 0s - 5ms/step - loss: 4397.7192 - val_loss: 6092.9995\n",
            "Epoch 97/300\n",
            "15/15 - 0s - 5ms/step - loss: 4318.3872 - val_loss: 3866.4941\n",
            "Epoch 98/300\n",
            "15/15 - 0s - 5ms/step - loss: 4258.2773 - val_loss: 4287.1104\n",
            "Epoch 99/300\n",
            "15/15 - 0s - 5ms/step - loss: 4187.3945 - val_loss: 5594.8296\n",
            "Epoch 100/300\n",
            "15/15 - 0s - 5ms/step - loss: 4089.5615 - val_loss: 4172.9556\n",
            "Epoch 101/300\n",
            "15/15 - 0s - 5ms/step - loss: 4052.0715 - val_loss: 6490.9683\n",
            "Epoch 102/300\n",
            "15/15 - 0s - 5ms/step - loss: 4119.2856 - val_loss: 4214.3105\n",
            "Epoch 103/300\n",
            "15/15 - 0s - 5ms/step - loss: 4089.9602 - val_loss: 8290.9082\n",
            "Epoch 104/300\n",
            "15/15 - 0s - 5ms/step - loss: 4276.9043 - val_loss: 3893.3755\n",
            "Epoch 105/300\n",
            "15/15 - 0s - 5ms/step - loss: 3855.2522 - val_loss: 3499.4880\n",
            "Epoch 106/300\n",
            "15/15 - 0s - 5ms/step - loss: 3796.6912 - val_loss: 4436.6782\n",
            "Epoch 107/300\n",
            "15/15 - 0s - 5ms/step - loss: 3964.5371 - val_loss: 6329.6006\n",
            "Epoch 108/300\n",
            "15/15 - 0s - 5ms/step - loss: 3889.7559 - val_loss: 3491.5991\n",
            "Epoch 109/300\n",
            "15/15 - 0s - 5ms/step - loss: 3746.3335 - val_loss: 4191.6836\n",
            "Epoch 110/300\n",
            "15/15 - 0s - 5ms/step - loss: 3593.3669 - val_loss: 6516.5190\n",
            "Epoch 111/300\n",
            "15/15 - 0s - 5ms/step - loss: 3816.8530 - val_loss: 5717.3125\n",
            "Epoch 112/300\n",
            "15/15 - 0s - 5ms/step - loss: 3711.2646 - val_loss: 2649.8857\n",
            "Epoch 113/300\n",
            "15/15 - 0s - 5ms/step - loss: 3655.6619 - val_loss: 5789.4478\n",
            "Epoch 114/300\n",
            "15/15 - 0s - 5ms/step - loss: 3636.0024 - val_loss: 7710.3638\n",
            "Epoch 115/300\n",
            "15/15 - 0s - 5ms/step - loss: 3858.2795 - val_loss: 5949.3398\n",
            "Epoch 116/300\n",
            "15/15 - 0s - 5ms/step - loss: 3518.2817 - val_loss: 5037.0210\n",
            "Epoch 117/300\n",
            "15/15 - 0s - 5ms/step - loss: 3600.5488 - val_loss: 4524.5273\n",
            "Epoch 118/300\n",
            "15/15 - 0s - 5ms/step - loss: 3414.4761 - val_loss: 3433.9565\n",
            "Epoch 119/300\n",
            "15/15 - 0s - 5ms/step - loss: 3702.5193 - val_loss: 5088.8198\n",
            "Epoch 120/300\n",
            "15/15 - 0s - 5ms/step - loss: 3620.5403 - val_loss: 6542.3169\n",
            "Epoch 121/300\n",
            "15/15 - 0s - 5ms/step - loss: 3730.7598 - val_loss: 3079.6462\n",
            "Epoch 122/300\n",
            "15/15 - 0s - 5ms/step - loss: 3622.4714 - val_loss: 7774.9546\n",
            "Epoch 123/300\n",
            "15/15 - 0s - 5ms/step - loss: 4444.6816 - val_loss: 6439.7368\n",
            "Epoch 124/300\n",
            "15/15 - 0s - 5ms/step - loss: 3692.0037 - val_loss: 4580.6069\n",
            "Epoch 125/300\n",
            "15/15 - 0s - 5ms/step - loss: 3673.2646 - val_loss: 7248.9922\n",
            "Epoch 126/300\n",
            "15/15 - 0s - 5ms/step - loss: 3606.1724 - val_loss: 7025.6899\n",
            "Epoch 127/300\n",
            "15/15 - 0s - 5ms/step - loss: 3446.0176 - val_loss: 4316.2568\n",
            "Epoch 128/300\n",
            "15/15 - 0s - 5ms/step - loss: 3218.8567 - val_loss: 4990.8599\n",
            "Epoch 129/300\n",
            "15/15 - 0s - 5ms/step - loss: 3351.6360 - val_loss: 6006.3008\n",
            "Epoch 130/300\n",
            "15/15 - 0s - 5ms/step - loss: 3299.5903 - val_loss: 5241.1406\n",
            "Epoch 131/300\n",
            "15/15 - 0s - 5ms/step - loss: 3278.3462 - val_loss: 4176.3892\n",
            "Epoch 132/300\n",
            "15/15 - 0s - 5ms/step - loss: 3286.9304 - val_loss: 5081.0811\n",
            "Epoch 133/300\n",
            "15/15 - 0s - 5ms/step - loss: 3197.5786 - val_loss: 4969.5488\n",
            "Epoch 134/300\n",
            "15/15 - 0s - 5ms/step - loss: 3177.6265 - val_loss: 7909.5908\n",
            "Epoch 135/300\n",
            "15/15 - 0s - 5ms/step - loss: 3485.9641 - val_loss: 5944.6978\n",
            "Epoch 136/300\n",
            "15/15 - 0s - 5ms/step - loss: 3334.8838 - val_loss: 4088.8745\n",
            "Epoch 137/300\n",
            "15/15 - 0s - 5ms/step - loss: 3424.7742 - val_loss: 4930.8560\n",
            "Epoch 138/300\n",
            "15/15 - 0s - 5ms/step - loss: 3134.4858 - val_loss: 6010.3750\n",
            "Epoch 139/300\n",
            "15/15 - 0s - 5ms/step - loss: 3178.1841 - val_loss: 4750.0190\n",
            "Epoch 140/300\n",
            "15/15 - 0s - 5ms/step - loss: 3547.9561 - val_loss: 6567.8687\n",
            "Epoch 141/300\n",
            "15/15 - 0s - 5ms/step - loss: 3039.7058 - val_loss: 5826.9482\n",
            "Epoch 142/300\n",
            "15/15 - 0s - 5ms/step - loss: 2956.1855 - val_loss: 4284.4478\n",
            "Epoch 143/300\n",
            "15/15 - 0s - 5ms/step - loss: 3074.2844 - val_loss: 5566.4111\n",
            "Epoch 144/300\n",
            "15/15 - 0s - 5ms/step - loss: 2924.0491 - val_loss: 7158.3569\n",
            "Epoch 145/300\n",
            "15/15 - 0s - 5ms/step - loss: 3356.4463 - val_loss: 5044.9561\n",
            "Epoch 146/300\n",
            "15/15 - 0s - 5ms/step - loss: 3158.3464 - val_loss: 5811.7480\n",
            "Epoch 147/300\n",
            "15/15 - 0s - 5ms/step - loss: 3087.5857 - val_loss: 5801.8750\n",
            "Epoch 148/300\n",
            "15/15 - 0s - 5ms/step - loss: 3005.9785 - val_loss: 5388.4429\n",
            "Epoch 149/300\n",
            "15/15 - 0s - 5ms/step - loss: 2977.3757 - val_loss: 4573.7188\n",
            "Epoch 150/300\n",
            "15/15 - 0s - 5ms/step - loss: 2849.8943 - val_loss: 5088.1440\n",
            "Epoch 151/300\n",
            "15/15 - 0s - 5ms/step - loss: 2914.8223 - val_loss: 6510.5498\n",
            "Epoch 152/300\n",
            "15/15 - 0s - 5ms/step - loss: 2977.8201 - val_loss: 6035.4380\n",
            "Epoch 153/300\n",
            "15/15 - 0s - 5ms/step - loss: 2776.3469 - val_loss: 5148.8374\n",
            "Epoch 154/300\n",
            "15/15 - 0s - 5ms/step - loss: 3008.0925 - val_loss: 4243.2588\n",
            "Epoch 155/300\n",
            "15/15 - 0s - 5ms/step - loss: 2922.0659 - val_loss: 6636.4673\n",
            "Epoch 156/300\n",
            "15/15 - 0s - 5ms/step - loss: 2908.4265 - val_loss: 4869.9111\n",
            "Epoch 157/300\n",
            "15/15 - 0s - 5ms/step - loss: 2928.8857 - val_loss: 5213.9604\n",
            "Epoch 158/300\n",
            "15/15 - 0s - 5ms/step - loss: 2862.3918 - val_loss: 4726.6499\n",
            "Epoch 159/300\n",
            "15/15 - 0s - 5ms/step - loss: 2757.6968 - val_loss: 6350.1250\n",
            "Epoch 160/300\n",
            "15/15 - 0s - 5ms/step - loss: 2953.4661 - val_loss: 6643.6245\n",
            "Epoch 161/300\n",
            "15/15 - 0s - 5ms/step - loss: 2711.6482 - val_loss: 6872.4199\n",
            "Epoch 162/300\n",
            "15/15 - 0s - 5ms/step - loss: 3003.5093 - val_loss: 4802.7734\n",
            "Epoch 163/300\n",
            "15/15 - 0s - 5ms/step - loss: 2750.7996 - val_loss: 4430.4375\n",
            "Epoch 164/300\n",
            "15/15 - 0s - 5ms/step - loss: 2710.2317 - val_loss: 7514.2764\n",
            "Epoch 165/300\n",
            "15/15 - 0s - 5ms/step - loss: 2783.2585 - val_loss: 3492.1089\n",
            "Epoch 166/300\n",
            "15/15 - 0s - 5ms/step - loss: 3123.8457 - val_loss: 4734.8110\n",
            "Epoch 167/300\n",
            "15/15 - 0s - 5ms/step - loss: 2746.2290 - val_loss: 5905.3013\n",
            "Epoch 168/300\n",
            "15/15 - 0s - 5ms/step - loss: 2457.1934 - val_loss: 4840.3052\n",
            "Epoch 169/300\n",
            "15/15 - 0s - 5ms/step - loss: 2607.9885 - val_loss: 5550.3022\n",
            "Epoch 170/300\n",
            "15/15 - 0s - 5ms/step - loss: 2465.0757 - val_loss: 3931.4155\n",
            "Epoch 171/300\n",
            "15/15 - 0s - 5ms/step - loss: 2472.2671 - val_loss: 6138.4341\n",
            "Epoch 172/300\n",
            "15/15 - 0s - 5ms/step - loss: 2714.5664 - val_loss: 5912.6978\n",
            "Epoch 173/300\n",
            "15/15 - 0s - 5ms/step - loss: 2572.7522 - val_loss: 4520.3491\n",
            "Epoch 174/300\n",
            "15/15 - 0s - 5ms/step - loss: 2426.1292 - val_loss: 7139.0688\n",
            "Epoch 175/300\n",
            "15/15 - 0s - 5ms/step - loss: 2907.1355 - val_loss: 5967.9033\n",
            "Epoch 176/300\n",
            "15/15 - 0s - 5ms/step - loss: 2554.2358 - val_loss: 4841.8579\n",
            "Epoch 177/300\n",
            "15/15 - 0s - 7ms/step - loss: 2423.7351 - val_loss: 4627.1343\n",
            "Epoch 178/300\n",
            "15/15 - 0s - 5ms/step - loss: 2347.2578 - val_loss: 7327.9761\n",
            "Epoch 179/300\n",
            "15/15 - 0s - 5ms/step - loss: 2902.0906 - val_loss: 5871.7271\n",
            "Epoch 180/300\n",
            "15/15 - 0s - 5ms/step - loss: 2513.5530 - val_loss: 4888.0264\n",
            "Epoch 181/300\n",
            "15/15 - 0s - 5ms/step - loss: 2592.6628 - val_loss: 6355.7520\n",
            "Epoch 182/300\n",
            "15/15 - 0s - 5ms/step - loss: 2361.3823 - val_loss: 5543.5703\n",
            "Epoch 183/300\n",
            "15/15 - 0s - 5ms/step - loss: 2515.1919 - val_loss: 4702.7935\n",
            "Epoch 184/300\n",
            "15/15 - 0s - 5ms/step - loss: 2470.7583 - val_loss: 5632.1440\n",
            "Epoch 185/300\n",
            "15/15 - 0s - 5ms/step - loss: 2282.8535 - val_loss: 5727.4639\n",
            "Epoch 186/300\n",
            "15/15 - 0s - 5ms/step - loss: 2495.7319 - val_loss: 4405.8101\n",
            "Epoch 187/300\n",
            "15/15 - 0s - 5ms/step - loss: 2242.1477 - val_loss: 4162.1099\n",
            "Epoch 188/300\n",
            "15/15 - 0s - 5ms/step - loss: 2480.1084 - val_loss: 4911.6113\n",
            "Epoch 189/300\n",
            "15/15 - 0s - 5ms/step - loss: 2558.7502 - val_loss: 4932.9375\n",
            "Epoch 190/300\n",
            "15/15 - 0s - 5ms/step - loss: 2434.8062 - val_loss: 5039.6489\n",
            "Epoch 191/300\n",
            "15/15 - 0s - 5ms/step - loss: 2360.6411 - val_loss: 5243.6982\n",
            "Epoch 192/300\n",
            "15/15 - 0s - 5ms/step - loss: 2291.3601 - val_loss: 8960.8809\n",
            "Epoch 193/300\n",
            "15/15 - 0s - 5ms/step - loss: 2740.7847 - val_loss: 7232.0308\n",
            "Epoch 194/300\n",
            "15/15 - 0s - 5ms/step - loss: 2416.0293 - val_loss: 5171.1460\n",
            "Epoch 195/300\n",
            "15/15 - 0s - 5ms/step - loss: 2323.2654 - val_loss: 4039.0481\n",
            "Epoch 196/300\n",
            "15/15 - 0s - 5ms/step - loss: 2435.1958 - val_loss: 4479.4741\n",
            "Epoch 197/300\n",
            "15/15 - 0s - 5ms/step - loss: 2387.8225 - val_loss: 5002.3774\n",
            "Epoch 198/300\n",
            "15/15 - 0s - 5ms/step - loss: 2364.9907 - val_loss: 3962.6624\n",
            "Epoch 199/300\n",
            "15/15 - 0s - 5ms/step - loss: 2260.2607 - val_loss: 4979.9028\n",
            "Epoch 200/300\n",
            "15/15 - 0s - 5ms/step - loss: 2353.8071 - val_loss: 3882.5735\n",
            "Epoch 201/300\n",
            "15/15 - 0s - 5ms/step - loss: 2621.9260 - val_loss: 4748.4419\n",
            "Epoch 202/300\n",
            "15/15 - 0s - 5ms/step - loss: 2358.8745 - val_loss: 5068.4468\n",
            "Epoch 203/300\n",
            "15/15 - 0s - 5ms/step - loss: 2201.8879 - val_loss: 4939.2275\n",
            "Epoch 204/300\n",
            "15/15 - 0s - 5ms/step - loss: 2198.3462 - val_loss: 5633.4585\n",
            "Epoch 205/300\n",
            "15/15 - 0s - 5ms/step - loss: 1988.0323 - val_loss: 3396.5818\n",
            "Epoch 206/300\n",
            "15/15 - 0s - 5ms/step - loss: 2652.1882 - val_loss: 2980.9270\n",
            "Epoch 207/300\n",
            "15/15 - 0s - 5ms/step - loss: 2356.9661 - val_loss: 5590.6816\n",
            "Epoch 208/300\n",
            "15/15 - 0s - 5ms/step - loss: 2186.2063 - val_loss: 4591.6992\n",
            "Epoch 209/300\n",
            "15/15 - 0s - 5ms/step - loss: 2373.3306 - val_loss: 6096.8267\n",
            "Epoch 210/300\n",
            "15/15 - 0s - 5ms/step - loss: 2341.4058 - val_loss: 5348.4346\n",
            "Epoch 211/300\n",
            "15/15 - 0s - 5ms/step - loss: 2111.5906 - val_loss: 4958.0830\n",
            "Epoch 212/300\n",
            "15/15 - 0s - 5ms/step - loss: 2276.0481 - val_loss: 4364.3501\n",
            "Epoch 213/300\n",
            "15/15 - 0s - 5ms/step - loss: 2066.9358 - val_loss: 4447.2549\n",
            "Epoch 214/300\n",
            "15/15 - 0s - 5ms/step - loss: 2202.6658 - val_loss: 4081.6997\n",
            "Epoch 215/300\n",
            "15/15 - 0s - 5ms/step - loss: 2066.1042 - val_loss: 4296.8394\n",
            "Epoch 216/300\n",
            "15/15 - 0s - 5ms/step - loss: 2104.1384 - val_loss: 4262.3247\n",
            "Epoch 217/300\n",
            "15/15 - 0s - 5ms/step - loss: 2149.6658 - val_loss: 4949.9092\n",
            "Epoch 218/300\n",
            "15/15 - 0s - 5ms/step - loss: 2078.5706 - val_loss: 6129.0308\n",
            "Epoch 219/300\n",
            "15/15 - 0s - 5ms/step - loss: 1986.5988 - val_loss: 5461.9219\n",
            "Epoch 220/300\n",
            "15/15 - 0s - 5ms/step - loss: 1982.7966 - val_loss: 4885.3887\n",
            "Epoch 221/300\n",
            "15/15 - 0s - 5ms/step - loss: 2091.7842 - val_loss: 6938.2651\n",
            "Epoch 222/300\n",
            "15/15 - 0s - 5ms/step - loss: 2051.0815 - val_loss: 7867.0654\n",
            "Epoch 223/300\n",
            "15/15 - 0s - 5ms/step - loss: 2232.8394 - val_loss: 6989.3589\n",
            "Epoch 224/300\n",
            "15/15 - 0s - 5ms/step - loss: 2079.0144 - val_loss: 4734.8242\n",
            "Epoch 225/300\n",
            "15/15 - 0s - 5ms/step - loss: 2047.1854 - val_loss: 5156.0034\n",
            "Epoch 226/300\n",
            "15/15 - 0s - 5ms/step - loss: 1878.0601 - val_loss: 4900.8779\n",
            "Epoch 227/300\n",
            "15/15 - 0s - 5ms/step - loss: 1855.9445 - val_loss: 5714.7451\n",
            "Epoch 228/300\n",
            "15/15 - 0s - 4ms/step - loss: 2070.3169 - val_loss: 6276.4580\n",
            "Epoch 229/300\n",
            "15/15 - 0s - 5ms/step - loss: 2118.9946 - val_loss: 5356.8667\n",
            "Epoch 230/300\n",
            "15/15 - 0s - 5ms/step - loss: 1992.9967 - val_loss: 6897.4658\n",
            "Epoch 231/300\n",
            "15/15 - 0s - 5ms/step - loss: 1946.3009 - val_loss: 5073.2002\n",
            "Epoch 232/300\n",
            "15/15 - 0s - 5ms/step - loss: 1933.3324 - val_loss: 5655.1709\n",
            "Epoch 233/300\n",
            "15/15 - 0s - 5ms/step - loss: 1983.5430 - val_loss: 4389.8022\n",
            "Epoch 234/300\n",
            "15/15 - 0s - 5ms/step - loss: 2018.8158 - val_loss: 6944.8335\n",
            "Epoch 235/300\n",
            "15/15 - 0s - 5ms/step - loss: 2054.4656 - val_loss: 6122.6929\n",
            "Epoch 236/300\n",
            "15/15 - 0s - 5ms/step - loss: 1984.3386 - val_loss: 6897.0957\n",
            "Epoch 237/300\n",
            "15/15 - 0s - 5ms/step - loss: 2026.6047 - val_loss: 6753.3257\n",
            "Epoch 238/300\n",
            "15/15 - 0s - 5ms/step - loss: 1782.6042 - val_loss: 5814.5337\n",
            "Epoch 239/300\n",
            "15/15 - 0s - 5ms/step - loss: 1948.7002 - val_loss: 3383.7400\n",
            "Epoch 240/300\n",
            "15/15 - 0s - 5ms/step - loss: 2299.1086 - val_loss: 6106.4575\n",
            "Epoch 241/300\n",
            "15/15 - 0s - 5ms/step - loss: 2058.0593 - val_loss: 6672.8584\n",
            "Epoch 242/300\n",
            "15/15 - 0s - 5ms/step - loss: 2065.5952 - val_loss: 4581.3589\n",
            "Epoch 243/300\n",
            "15/15 - 0s - 5ms/step - loss: 1864.6765 - val_loss: 5678.7295\n",
            "Epoch 244/300\n",
            "15/15 - 0s - 5ms/step - loss: 1784.3057 - val_loss: 5896.6948\n",
            "Epoch 245/300\n",
            "15/15 - 0s - 5ms/step - loss: 1879.7858 - val_loss: 3650.6094\n",
            "Epoch 246/300\n",
            "15/15 - 0s - 5ms/step - loss: 1944.7230 - val_loss: 5407.8213\n",
            "Epoch 247/300\n",
            "15/15 - 0s - 5ms/step - loss: 1738.4719 - val_loss: 4343.6899\n",
            "Epoch 248/300\n",
            "15/15 - 0s - 5ms/step - loss: 2092.3083 - val_loss: 6446.3789\n",
            "Epoch 249/300\n",
            "15/15 - 0s - 5ms/step - loss: 1841.0753 - val_loss: 5617.0630\n",
            "Epoch 250/300\n",
            "15/15 - 0s - 5ms/step - loss: 1740.6333 - val_loss: 6120.3750\n",
            "Epoch 251/300\n",
            "15/15 - 0s - 5ms/step - loss: 1965.2197 - val_loss: 4769.1641\n",
            "Epoch 252/300\n",
            "15/15 - 0s - 5ms/step - loss: 1847.7185 - val_loss: 6965.7329\n",
            "Epoch 253/300\n",
            "15/15 - 0s - 5ms/step - loss: 1891.1682 - val_loss: 5103.8442\n",
            "Epoch 254/300\n",
            "15/15 - 0s - 5ms/step - loss: 1756.0741 - val_loss: 4238.6982\n",
            "Epoch 255/300\n",
            "15/15 - 0s - 5ms/step - loss: 1833.4688 - val_loss: 3774.7090\n",
            "Epoch 256/300\n",
            "15/15 - 0s - 5ms/step - loss: 2163.3196 - val_loss: 4760.8696\n",
            "Epoch 257/300\n",
            "15/15 - 0s - 5ms/step - loss: 1786.4108 - val_loss: 5899.9429\n",
            "Epoch 258/300\n",
            "15/15 - 0s - 5ms/step - loss: 1699.4049 - val_loss: 4657.3818\n",
            "Epoch 259/300\n",
            "15/15 - 0s - 5ms/step - loss: 1847.5942 - val_loss: 6068.7256\n",
            "Epoch 260/300\n",
            "15/15 - 0s - 5ms/step - loss: 1757.1631 - val_loss: 4645.4521\n",
            "Epoch 261/300\n",
            "15/15 - 0s - 5ms/step - loss: 1701.8389 - val_loss: 5303.2944\n",
            "Epoch 262/300\n",
            "15/15 - 0s - 5ms/step - loss: 1814.1642 - val_loss: 7460.9390\n",
            "Epoch 263/300\n",
            "15/15 - 0s - 5ms/step - loss: 1974.2869 - val_loss: 7722.0239\n",
            "Epoch 264/300\n",
            "15/15 - 0s - 4ms/step - loss: 1822.3973 - val_loss: 6874.5405\n",
            "Epoch 265/300\n",
            "15/15 - 0s - 5ms/step - loss: 1803.0583 - val_loss: 4862.6602\n",
            "Epoch 266/300\n",
            "15/15 - 0s - 5ms/step - loss: 1587.4572 - val_loss: 5998.9131\n",
            "Epoch 267/300\n",
            "15/15 - 0s - 5ms/step - loss: 1629.6320 - val_loss: 5668.5986\n",
            "Epoch 268/300\n",
            "15/15 - 0s - 5ms/step - loss: 1847.5201 - val_loss: 5563.1577\n",
            "Epoch 269/300\n",
            "15/15 - 0s - 5ms/step - loss: 1733.2849 - val_loss: 5579.1392\n",
            "Epoch 270/300\n",
            "15/15 - 0s - 5ms/step - loss: 2006.6293 - val_loss: 5006.2197\n",
            "Epoch 271/300\n",
            "15/15 - 0s - 5ms/step - loss: 1701.5111 - val_loss: 6618.6987\n",
            "Epoch 272/300\n",
            "15/15 - 0s - 5ms/step - loss: 1785.5139 - val_loss: 5939.8604\n",
            "Epoch 273/300\n",
            "15/15 - 0s - 5ms/step - loss: 1782.0432 - val_loss: 6655.8647\n",
            "Epoch 274/300\n",
            "15/15 - 0s - 5ms/step - loss: 1703.8354 - val_loss: 6333.2026\n",
            "Epoch 275/300\n",
            "15/15 - 0s - 5ms/step - loss: 1604.2859 - val_loss: 4285.0337\n",
            "Epoch 276/300\n",
            "15/15 - 0s - 5ms/step - loss: 1738.5459 - val_loss: 4054.4429\n",
            "Epoch 277/300\n",
            "15/15 - 0s - 5ms/step - loss: 1598.3264 - val_loss: 6005.9409\n",
            "Epoch 278/300\n",
            "15/15 - 0s - 5ms/step - loss: 1631.8173 - val_loss: 3775.4827\n",
            "Epoch 279/300\n",
            "15/15 - 0s - 5ms/step - loss: 1808.2415 - val_loss: 5462.9819\n",
            "Epoch 280/300\n",
            "15/15 - 0s - 5ms/step - loss: 1584.3928 - val_loss: 4084.4478\n",
            "Epoch 281/300\n",
            "15/15 - 0s - 5ms/step - loss: 1553.0452 - val_loss: 7036.9326\n",
            "Epoch 282/300\n",
            "15/15 - 0s - 5ms/step - loss: 1508.1331 - val_loss: 5849.7236\n",
            "Epoch 283/300\n",
            "15/15 - 0s - 6ms/step - loss: 1545.2339 - val_loss: 6756.3574\n",
            "Epoch 284/300\n",
            "15/15 - 0s - 5ms/step - loss: 1694.8577 - val_loss: 7044.1450\n",
            "Epoch 285/300\n",
            "15/15 - 0s - 5ms/step - loss: 1596.9773 - val_loss: 5033.8159\n",
            "Epoch 286/300\n",
            "15/15 - 0s - 5ms/step - loss: 1453.0640 - val_loss: 5883.7773\n",
            "Epoch 287/300\n",
            "15/15 - 0s - 5ms/step - loss: 1613.8563 - val_loss: 5826.2158\n",
            "Epoch 288/300\n",
            "15/15 - 0s - 5ms/step - loss: 1569.9022 - val_loss: 6232.8862\n",
            "Epoch 289/300\n",
            "15/15 - 0s - 5ms/step - loss: 1533.5696 - val_loss: 6850.6704\n",
            "Epoch 290/300\n",
            "15/15 - 0s - 5ms/step - loss: 1540.0948 - val_loss: 5957.8335\n",
            "Epoch 291/300\n",
            "15/15 - 0s - 5ms/step - loss: 1571.5007 - val_loss: 4424.7358\n",
            "Epoch 292/300\n",
            "15/15 - 0s - 5ms/step - loss: 1634.3506 - val_loss: 6481.4424\n",
            "Epoch 293/300\n",
            "15/15 - 0s - 5ms/step - loss: 1467.6343 - val_loss: 4804.6421\n",
            "Epoch 294/300\n",
            "15/15 - 0s - 5ms/step - loss: 1587.5195 - val_loss: 5921.5415\n",
            "Epoch 295/300\n",
            "15/15 - 0s - 5ms/step - loss: 1624.1455 - val_loss: 6893.9585\n",
            "Epoch 296/300\n",
            "15/15 - 0s - 5ms/step - loss: 1446.8512 - val_loss: 8087.2432\n",
            "Epoch 297/300\n",
            "15/15 - 0s - 5ms/step - loss: 1570.0834 - val_loss: 5689.6089\n",
            "Epoch 298/300\n",
            "15/15 - 0s - 5ms/step - loss: 1575.6028 - val_loss: 6616.1987\n",
            "Epoch 299/300\n",
            "15/15 - 0s - 5ms/step - loss: 1491.2894 - val_loss: 6497.5718\n",
            "Epoch 300/300\n",
            "15/15 - 0s - 5ms/step - loss: 1501.4374 - val_loss: 6018.9780\n",
            "\u001b[1m49/49\u001b[0m \u001b[32m━━━━━━━━━━━━━━━━━━━━\u001b[0m\u001b[37m\u001b[0m \u001b[1m0s\u001b[0m 987us/step\n",
            "RMSE: 34.227540015687836\n",
            "Corrélation: 0.9917712267593706\n",
            "MAE: 25.963616257754914\n",
            "RAE: 0.210517812374763\n",
            "RRSE: 0.22834287565741676\n",
            "MAPE: 16.661954560681806\n",
            "R2: 0.9478595311365015\n",
            "----------------------------------\n"
          ]
        }
      ],
      "source": [
        "# best parameters\n",
        "\n",
        "hidden_layer_one=32\n",
        "hidden_layer_two=64\n",
        "dropout_one=0.3\n",
        "dropout_two=0.15\n",
        "\n",
        "\n",
        "model=get_mlp_model(input_shape=(X_train.shape[1],),hidden_layer_one=hidden_layer_one,dropout_one=dropout_one,hidden_layer_two=hidden_layer_two,dropout_two=dropout_two)\n",
        "\n",
        "# Define the ModelCheckpoint callback\n",
        "checkpoint_filepath = '../checkpoints/bayesian_checkpoint.h5'\n",
        "model_checkpoint = ModelCheckpoint(\n",
        "filepath=checkpoint_filepath,\n",
        "save_best_only=True,\n",
        "monitor='val_loss',\n",
        "mode='min',\n",
        "verbose=0\n",
        ")\n",
        "\n",
        "# Train the model on the training data with validation data and checkpoint callback\n",
        "history = model.fit(X_train, y_train, epochs=300, batch_size=512,\n",
        "            verbose=2, validation_data=(X_val, y_val),\n",
        "            callbacks=[model_checkpoint])\n",
        "\n",
        "# Load the best weights from the saved checkpoint\n",
        "model.load_weights(checkpoint_filepath)\n",
        "\n",
        "# Evaluate the performance of the model on the test set\n",
        "y_test_pred = model.predict(X_test)\n",
        "\n",
        "# Calculate performance metrics\n",
        "rmse2, corr2, mae2, rae2, rrse2, mape2, r2_2 = compute_error(y_test.values, y_test_pred.reshape(y_test_pred.shape[0]))\n",
        "\n",
        "print(\"RMSE:\", rmse2)\n",
        "print(\"Corrélation:\", corr2)\n",
        "print(\"MAE:\", mae2)\n",
        "print(\"RAE:\", rae2)\n",
        "print(\"RRSE:\", rrse2)\n",
        "print(\"MAPE:\", mape2)\n",
        "print(\"R2:\", r2_2)\n",
        "print(\"----------------------------------\")"
      ]
    },
    {
      "attachments": {},
      "cell_type": "markdown",
      "metadata": {
        "id": "AN-8AO2Ecina"
      },
      "source": [
        "Save the weights of the best model for later loading"
      ]
    },
    {
      "cell_type": "code",
      "execution_count": 19,
      "metadata": {
        "id": "HUAXH6qwi2By"
      },
      "outputs": [],
      "source": [
        "# Save the best model in checkpoint only if it is better\n",
        "model.save_weights('../checkpoint/grid_search_checkpoint.weights.h5')"
      ]
    }
  ],
  "metadata": {
    "colab": {
      "provenance": []
    },
    "kernelspec": {
      "display_name": "curie",
      "language": "python",
      "name": "python3"
    },
    "language_info": {
      "codemirror_mode": {
        "name": "ipython",
        "version": 3
      },
      "file_extension": ".py",
      "mimetype": "text/x-python",
      "name": "python",
      "nbconvert_exporter": "python",
      "pygments_lexer": "ipython3",
      "version": "3.11.11"
    }
  },
  "nbformat": 4,
  "nbformat_minor": 0
}
