{
  "cells": [
    {
      "cell_type": "code",
      "execution_count": 1,
      "metadata": {},
      "outputs": [
        {
          "name": "stdout",
          "output_type": "stream",
          "text": [
            "Requirement already satisfied: scikit-learn in /home/usman/miniconda3/envs/curie/lib/python3.11/site-packages (1.6.1)\n",
            "Requirement already satisfied: optuna in /home/usman/miniconda3/envs/curie/lib/python3.11/site-packages (4.2.1)\n",
            "Requirement already satisfied: prettytable in /home/usman/miniconda3/envs/curie/lib/python3.11/site-packages (3.14.0)\n",
            "Requirement already satisfied: matplotlib in /home/usman/miniconda3/envs/curie/lib/python3.11/site-packages (3.10.0)\n",
            "Requirement already satisfied: numpy>=1.19.5 in /home/usman/miniconda3/envs/curie/lib/python3.11/site-packages (from scikit-learn) (2.0.2)\n",
            "Requirement already satisfied: scipy>=1.6.0 in /home/usman/miniconda3/envs/curie/lib/python3.11/site-packages (from scikit-learn) (1.15.2)\n",
            "Requirement already satisfied: joblib>=1.2.0 in /home/usman/miniconda3/envs/curie/lib/python3.11/site-packages (from scikit-learn) (1.4.2)\n",
            "Requirement already satisfied: threadpoolctl>=3.1.0 in /home/usman/miniconda3/envs/curie/lib/python3.11/site-packages (from scikit-learn) (3.5.0)\n",
            "Requirement already satisfied: alembic>=1.5.0 in /home/usman/miniconda3/envs/curie/lib/python3.11/site-packages (from optuna) (1.14.1)\n",
            "Requirement already satisfied: colorlog in /home/usman/miniconda3/envs/curie/lib/python3.11/site-packages (from optuna) (6.9.0)\n",
            "Requirement already satisfied: packaging>=20.0 in /home/usman/miniconda3/envs/curie/lib/python3.11/site-packages (from optuna) (24.2)\n",
            "Requirement already satisfied: sqlalchemy>=1.4.2 in /home/usman/miniconda3/envs/curie/lib/python3.11/site-packages (from optuna) (2.0.38)\n",
            "Requirement already satisfied: tqdm in /home/usman/miniconda3/envs/curie/lib/python3.11/site-packages (from optuna) (4.67.1)\n",
            "Requirement already satisfied: PyYAML in /home/usman/miniconda3/envs/curie/lib/python3.11/site-packages (from optuna) (6.0.2)\n",
            "Requirement already satisfied: wcwidth in /home/usman/miniconda3/envs/curie/lib/python3.11/site-packages (from prettytable) (0.2.13)\n",
            "Requirement already satisfied: contourpy>=1.0.1 in /home/usman/miniconda3/envs/curie/lib/python3.11/site-packages (from matplotlib) (1.3.1)\n",
            "Requirement already satisfied: cycler>=0.10 in /home/usman/miniconda3/envs/curie/lib/python3.11/site-packages (from matplotlib) (0.12.1)\n",
            "Requirement already satisfied: fonttools>=4.22.0 in /home/usman/miniconda3/envs/curie/lib/python3.11/site-packages (from matplotlib) (4.55.3)\n",
            "Requirement already satisfied: kiwisolver>=1.3.1 in /home/usman/miniconda3/envs/curie/lib/python3.11/site-packages (from matplotlib) (1.4.8)\n",
            "Requirement already satisfied: pillow>=8 in /home/usman/miniconda3/envs/curie/lib/python3.11/site-packages (from matplotlib) (11.0.0)\n",
            "Requirement already satisfied: pyparsing>=2.3.1 in /home/usman/miniconda3/envs/curie/lib/python3.11/site-packages (from matplotlib) (3.2.0)\n",
            "Requirement already satisfied: python-dateutil>=2.7 in /home/usman/miniconda3/envs/curie/lib/python3.11/site-packages (from matplotlib) (2.9.0.post0)\n",
            "Requirement already satisfied: Mako in /home/usman/miniconda3/envs/curie/lib/python3.11/site-packages (from alembic>=1.5.0->optuna) (1.3.9)\n",
            "Requirement already satisfied: typing-extensions>=4 in /home/usman/miniconda3/envs/curie/lib/python3.11/site-packages (from alembic>=1.5.0->optuna) (4.12.2)\n",
            "Requirement already satisfied: six>=1.5 in /home/usman/miniconda3/envs/curie/lib/python3.11/site-packages (from python-dateutil>=2.7->matplotlib) (1.17.0)\n",
            "Requirement already satisfied: greenlet!=0.4.17 in /home/usman/miniconda3/envs/curie/lib/python3.11/site-packages (from sqlalchemy>=1.4.2->optuna) (3.1.1)\n",
            "Requirement already satisfied: MarkupSafe>=0.9.2 in /home/usman/miniconda3/envs/curie/lib/python3.11/site-packages (from Mako->alembic>=1.5.0->optuna) (3.0.2)\n",
            "Note: you may need to restart the kernel to use updated packages.\n"
          ]
        }
      ],
      "source": [
        "%pip install scikit-learn optuna prettytable matplotlib"
      ]
    },
    {
      "cell_type": "code",
      "execution_count": 2,
      "metadata": {},
      "outputs": [],
      "source": [
        "import pandas as pd\n",
        "import numpy as np"
      ]
    },
    {
      "cell_type": "code",
      "execution_count": 3,
      "metadata": {},
      "outputs": [],
      "source": [
        "def dummy_npwarn_decorator_factory():\n",
        "  def npwarn_decorator(x):\n",
        "    return x\n",
        "  return npwarn_decorator\n",
        "np._no_nep50_warning = getattr(np, '_no_nep50_warning', dummy_npwarn_decorator_factory)"
      ]
    },
    {
      "cell_type": "code",
      "execution_count": 4,
      "metadata": {},
      "outputs": [
        {
          "name": "stderr",
          "output_type": "stream",
          "text": [
            "2025-02-21 13:31:30.465528: I external/local_xla/xla/tsl/cuda/cudart_stub.cc:32] Could not find cuda drivers on your machine, GPU will not be used.\n",
            "2025-02-21 13:31:30.554187: I external/local_xla/xla/tsl/cuda/cudart_stub.cc:32] Could not find cuda drivers on your machine, GPU will not be used.\n",
            "2025-02-21 13:31:30.637890: E external/local_xla/xla/stream_executor/cuda/cuda_fft.cc:477] Unable to register cuFFT factory: Attempting to register factory for plugin cuFFT when one has already been registered\n",
            "WARNING: All log messages before absl::InitializeLog() is called are written to STDERR\n",
            "E0000 00:00:1740124890.655247    5444 cuda_dnn.cc:8310] Unable to register cuDNN factory: Attempting to register factory for plugin cuDNN when one has already been registered\n",
            "E0000 00:00:1740124890.659454    5444 cuda_blas.cc:1418] Unable to register cuBLAS factory: Attempting to register factory for plugin cuBLAS when one has already been registered\n",
            "2025-02-21 13:31:30.676136: I tensorflow/core/platform/cpu_feature_guard.cc:210] This TensorFlow binary is optimized to use available CPU instructions in performance-critical operations.\n",
            "To enable the following instructions: AVX2 FMA, in other operations, rebuild TensorFlow with the appropriate compiler flags.\n"
          ]
        }
      ],
      "source": [
        "import tensorflow as tf"
      ]
    },
    {
      "cell_type": "code",
      "execution_count": 5,
      "metadata": {},
      "outputs": [
        {
          "name": "stdout",
          "output_type": "stream",
          "text": [
            "2.18.0\n",
            "2.0.2\n"
          ]
        }
      ],
      "source": [
        "print(tf.__version__)\n",
        "print(np.__version__)"
      ]
    },
    {
      "cell_type": "code",
      "execution_count": 6,
      "metadata": {},
      "outputs": [],
      "source": [
        "from tensorflow.keras.models import Sequential\n",
        "from tensorflow.keras.layers import Dense, Dropout\n",
        "\n",
        "from sklearn.model_selection import train_test_split"
      ]
    },
    {
      "cell_type": "code",
      "execution_count": 7,
      "metadata": {},
      "outputs": [],
      "source": [
        "def get_mlp_model(input_shape,hidden_layer_one,dropout_one,hidden_layer_two,dropout_two):\n",
        "    model = Sequential()\n",
        "    model.add(Dense(hidden_layer_one, activation='elu', input_shape=input_shape))\n",
        "    if dropout_one !=0:\n",
        "        model.add(Dropout(dropout_one))\n",
        "    model.add(Dense(hidden_layer_two, activation='elu'))\n",
        "    if dropout_two !=0:\n",
        "        model.add(Dropout(dropout_two))\n",
        "    model.add(Dense(1))\n",
        "    # Compile the model\n",
        "    model.compile(loss='mean_squared_error', optimizer=\"Adam\")\n",
        "\n",
        "    return model"
      ]
    },
    {
      "cell_type": "code",
      "execution_count": 8,
      "metadata": {},
      "outputs": [],
      "source": [
        "def compute_error(trues, predicted):\n",
        "    corr = np.corrcoef(predicted, trues)[0,1]\n",
        "    mae = np.mean(np.abs(predicted - trues))\n",
        "    rae = np.sum(np.abs(predicted - trues)) / np.sum(np.abs(trues - np.mean(trues)))\n",
        "    rmse = np.sqrt(np.mean((predicted - trues)**2))\n",
        "    rrse = np.sqrt(np.sum((predicted - trues)**2) / np.sum((trues - np.mean(trues))**2))\n",
        "    mape = np.mean(np.abs((predicted - trues) / trues)) * 100\n",
        "    r2 = max(0, 1 - np.sum((predicted - trues)**2) / np.sum((trues - np.mean(trues))**2))\n",
        "    # Calculez les autres mesures d'erreur ici\n",
        "    return rmse, corr, mae, rae, rrse, mape, r2"
      ]
    },
    {
      "attachments": {},
      "cell_type": "markdown",
      "metadata": {
        "id": "237Sg5tntkD8"
      },
      "source": [
        "## load and aggregate data by month"
      ]
    },
    {
      "cell_type": "code",
      "execution_count": 9,
      "metadata": {
        "colab": {
          "base_uri": "https://localhost:8080/",
          "height": 206
        },
        "id": "uwtHRU23tQGr",
        "outputId": "95662a77-9b5f-4724-acfb-4c08ba4e2417"
      },
      "outputs": [
        {
          "data": {
            "text/html": [
              "<div>\n",
              "<style scoped>\n",
              "    .dataframe tbody tr th:only-of-type {\n",
              "        vertical-align: middle;\n",
              "    }\n",
              "\n",
              "    .dataframe tbody tr th {\n",
              "        vertical-align: top;\n",
              "    }\n",
              "\n",
              "    .dataframe thead th {\n",
              "        text-align: right;\n",
              "    }\n",
              "</style>\n",
              "<table border=\"1\" class=\"dataframe\">\n",
              "  <thead>\n",
              "    <tr style=\"text-align: right;\">\n",
              "      <th></th>\n",
              "      <th>Inflation</th>\n",
              "      <th>Month</th>\n",
              "      <th>Year</th>\n",
              "      <th>pmi</th>\n",
              "      <th>PartNo</th>\n",
              "      <th>Description</th>\n",
              "      <th>Quantity</th>\n",
              "      <th>Sales Price</th>\n",
              "      <th>Total Sales</th>\n",
              "      <th>Swaraj Engines Stock Price</th>\n",
              "      <th>M&amp;M Stock Price</th>\n",
              "      <th>Escorts Kuboto Stock Price</th>\n",
              "    </tr>\n",
              "  </thead>\n",
              "  <tbody>\n",
              "    <tr>\n",
              "      <th>0</th>\n",
              "      <td>7.59</td>\n",
              "      <td>1</td>\n",
              "      <td>2020</td>\n",
              "      <td>250</td>\n",
              "      <td>0503BA0290N-RK</td>\n",
              "      <td>ALFA HUB</td>\n",
              "      <td>85</td>\n",
              "      <td>2118.60</td>\n",
              "      <td>59367</td>\n",
              "      <td>1125.0</td>\n",
              "      <td>532.9</td>\n",
              "      <td>630.0</td>\n",
              "    </tr>\n",
              "    <tr>\n",
              "      <th>1</th>\n",
              "      <td>7.59</td>\n",
              "      <td>1</td>\n",
              "      <td>2020</td>\n",
              "      <td>250</td>\n",
              "      <td>0503BA0290N</td>\n",
              "      <td>Front Wheel Hub</td>\n",
              "      <td>318</td>\n",
              "      <td>3536.35</td>\n",
              "      <td>59367</td>\n",
              "      <td>1125.0</td>\n",
              "      <td>532.9</td>\n",
              "      <td>630.0</td>\n",
              "    </tr>\n",
              "    <tr>\n",
              "      <th>2</th>\n",
              "      <td>7.59</td>\n",
              "      <td>1</td>\n",
              "      <td>2020</td>\n",
              "      <td>250</td>\n",
              "      <td>0502BA1050N</td>\n",
              "      <td>Alfa Rear Wheel Hub LH</td>\n",
              "      <td>209</td>\n",
              "      <td>1383.36</td>\n",
              "      <td>59367</td>\n",
              "      <td>1125.0</td>\n",
              "      <td>532.9</td>\n",
              "      <td>630.0</td>\n",
              "    </tr>\n",
              "    <tr>\n",
              "      <th>3</th>\n",
              "      <td>7.59</td>\n",
              "      <td>1</td>\n",
              "      <td>2020</td>\n",
              "      <td>250</td>\n",
              "      <td>0502BA1060N</td>\n",
              "      <td>Alfa Rear Wheel Hub RH</td>\n",
              "      <td>119</td>\n",
              "      <td>4849.50</td>\n",
              "      <td>59367</td>\n",
              "      <td>1125.0</td>\n",
              "      <td>532.9</td>\n",
              "      <td>630.0</td>\n",
              "    </tr>\n",
              "    <tr>\n",
              "      <th>4</th>\n",
              "      <td>7.59</td>\n",
              "      <td>1</td>\n",
              "      <td>2020</td>\n",
              "      <td>250</td>\n",
              "      <td>0602AAB00260N</td>\n",
              "      <td>Brake Drum ALFA</td>\n",
              "      <td>134</td>\n",
              "      <td>2462.26</td>\n",
              "      <td>59367</td>\n",
              "      <td>1125.0</td>\n",
              "      <td>532.9</td>\n",
              "      <td>630.0</td>\n",
              "    </tr>\n",
              "  </tbody>\n",
              "</table>\n",
              "</div>"
            ],
            "text/plain": [
              "   Inflation  Month  Year  pmi          PartNo             Description  \\\n",
              "0       7.59      1  2020  250  0503BA0290N-RK                ALFA HUB   \n",
              "1       7.59      1  2020  250     0503BA0290N         Front Wheel Hub   \n",
              "2       7.59      1  2020  250     0502BA1050N  Alfa Rear Wheel Hub LH   \n",
              "3       7.59      1  2020  250     0502BA1060N  Alfa Rear Wheel Hub RH   \n",
              "4       7.59      1  2020  250   0602AAB00260N         Brake Drum ALFA   \n",
              "\n",
              "   Quantity  Sales Price  Total Sales  Swaraj Engines Stock Price  \\\n",
              "0        85      2118.60        59367                      1125.0   \n",
              "1       318      3536.35        59367                      1125.0   \n",
              "2       209      1383.36        59367                      1125.0   \n",
              "3       119      4849.50        59367                      1125.0   \n",
              "4       134      2462.26        59367                      1125.0   \n",
              "\n",
              "   M&M Stock Price  Escorts Kuboto Stock Price  \n",
              "0            532.9                       630.0  \n",
              "1            532.9                       630.0  \n",
              "2            532.9                       630.0  \n",
              "3            532.9                       630.0  \n",
              "4            532.9                       630.0  "
            ]
          },
          "execution_count": 9,
          "metadata": {},
          "output_type": "execute_result"
        }
      ],
      "source": [
        "order_history_data=pd.read_csv('../data/final_data.csv')\n",
        "order_history_data.head()"
      ]
    },
    {
      "cell_type": "code",
      "execution_count": 10,
      "metadata": {},
      "outputs": [],
      "source": [
        "X = order_history_data.copy()\n",
        "y = order_history_data['Quantity']\n",
        "\n",
        "X_encoded = pd.get_dummies(X, columns=['Description', 'PartNo'])\n",
        "\n",
        "_, X_temp, _, y_temp = train_test_split(X_encoded, y, test_size=0.3, random_state=27)\n",
        "_, X_test, _, y_test = train_test_split(X_temp, y_temp, test_size=0.5, random_state=27)"
      ]
    },
    {
      "attachments": {},
      "cell_type": "markdown",
      "metadata": {
        "id": "W27kJNfHtl5w"
      },
      "source": [
        "## Load the optimized model, make predictions on the test data and calculate the errors. You can then compare performance with other models, such as the reference models created previously."
      ]
    },
    {
      "cell_type": "code",
      "execution_count": 11,
      "metadata": {
        "colab": {
          "base_uri": "https://localhost:8080/"
        },
        "id": "3ht-Fx95tQGv",
        "outputId": "62b25376-e6e9-4eb0-a6d9-cadb1ef1b638"
      },
      "outputs": [
        {
          "name": "stdout",
          "output_type": "stream",
          "text": [
            "\u001b[1m49/49\u001b[0m \u001b[32m━━━━━━━━━━━━━━━━━━━━\u001b[0m\u001b[37m\u001b[0m \u001b[1m0s\u001b[0m 1ms/step \n"
          ]
        },
        {
          "name": "stderr",
          "output_type": "stream",
          "text": [
            "/home/usman/miniconda3/envs/curie/lib/python3.11/site-packages/keras/src/layers/core/dense.py:87: UserWarning: Do not pass an `input_shape`/`input_dim` argument to a layer. When using Sequential models, prefer using an `Input(shape)` object as the first layer in the model instead.\n",
            "  super().__init__(activity_regularizer=activity_regularizer, **kwargs)\n",
            "W0000 00:00:1740124893.291951    5444 gpu_device.cc:2344] Cannot dlopen some GPU libraries. Please make sure the missing libraries mentioned above are installed properly if you would like to use GPU. Follow the guide at https://www.tensorflow.org/install/gpu for how to download and setup the required libraries for your platform.\n",
            "Skipping registering GPU devices...\n",
            "/home/usman/miniconda3/envs/curie/lib/python3.11/site-packages/keras/src/saving/saving_lib.py:757: UserWarning: Skipping variable loading for optimizer 'adam', because it has 2 variables whereas the saved optimizer has 14 variables. \n",
            "  saveable.load_own_variables(weights_store.get(inner_path))\n"
          ]
        },
        {
          "name": "stdout",
          "output_type": "stream",
          "text": [
            "RMSE: 1.3380370855580126\n",
            "Corrélation: 0.9999613345000999\n",
            "MAE: 0.9244380799727908\n",
            "RAE: 0.007495515275676247\n",
            "RRSE: 0.008926473702537446\n",
            "MAPE: 0.6340294022629149\n",
            "R2: 0.9999203180672379\n",
            "----------------------------------\n"
          ]
        }
      ],
      "source": [
        "hidden_layer_one=50\n",
        "hidden_layer_two=100\n",
        "dropout_one=0\n",
        "dropout_two=0\n",
        "\n",
        "\n",
        "model=get_mlp_model(input_shape=(X_test.shape[1],),hidden_layer_one=hidden_layer_one,dropout_one=dropout_one,hidden_layer_two=hidden_layer_two,dropout_two=dropout_two)\n",
        "\n",
        "\n",
        "checkpoint_filepath = '../checkpoint/base_model_checkpoint.weights.h5'\n",
        "# checkpoint_filepath = 'model_checkpoint.h5'\n",
        "\n",
        "# Load the best weights from the saved checkpoint\n",
        "model.load_weights(checkpoint_filepath)\n",
        "\n",
        "# Evaluate the performance of the model on the test set\n",
        "y_test_pred = model.predict(X_test)\n",
        "\n",
        "# Calculate performance metrics\n",
        "rmse2, corr2, mae2, rae2, rrse2, mape2, r2_2 = compute_error(y_test.values, y_test_pred.reshape(y_test_pred.shape[0]))\n",
        "print(\"RMSE:\", rmse2)\n",
        "print(\"Corrélation:\", corr2)\n",
        "print(\"MAE:\", mae2)\n",
        "print(\"RAE:\", rae2)\n",
        "print(\"RRSE:\", rrse2)\n",
        "print(\"MAPE:\", mape2)\n",
        "print(\"R2:\", r2_2)\n",
        "print(\"----------------------------------\")\n",
        "\n"
      ]
    },
    {
      "attachments": {},
      "cell_type": "markdown",
      "metadata": {
        "id": "DxqwaqrXswFP"
      },
      "source": [
        "**Performance comparaison**"
      ]
    },
    {
      "cell_type": "code",
      "execution_count": 12,
      "metadata": {
        "colab": {
          "base_uri": "https://localhost:8080/"
        },
        "id": "lsZwjs2M2Vox",
        "outputId": "06096689-16ea-4307-a2c0-812d0a0eadbf"
      },
      "outputs": [
        {
          "name": "stdout",
          "output_type": "stream",
          "text": [
            "┼────────────────────────┼─────────┼─────────────┼─────────┼──────────┼──────────┼─────────┼───────────┼\n",
            "│         Model          │   RMSE  │ Correlation │   MAE   │   RAE    │   RRSE   │   MAPE  │     R2    │\n",
            "┼────────────────────────┼─────────┼─────────────┼─────────┼──────────┼──────────┼─────────┼───────────┼\n",
            "│     Random Forest      │ 23.3435 │   0.812994  │ 8.96228 │ 0.504168 │ 0.58709  │  82.339 │  0.655325 │\n",
            "┼────────────────────────┼─────────┼─────────────┼─────────┼──────────┼──────────┼─────────┼───────────┼\n",
            "│   Linear Regression    │ 23.8307 │   0.802579  │ 11.2327 │ 0.631891 │ 0.599343 │ 218.499 │  0.640788 │\n",
            "┼────────────────────────┼─────────┼─────────────┼─────────┼──────────┼──────────┼─────────┼───────────┼\n",
            "│         Lasso          │ 33.9357 │   0.547551  │ 15.9419 │ 0.896799 │ 0.853486 │ 365.006 │  0.271562 │\n",
            "┼────────────────────────┼─────────┼─────────────┼─────────┼──────────┼──────────┼─────────┼───────────┼\n",
            "│         Ridge          │ 23.8388 │   0.801596  │ 11.1452 │ 0.626969 │ 0.599547 │ 214.896 │  0.640543 │\n",
            "┼────────────────────────┼─────────┼─────────────┼─────────┼──────────┼──────────┼─────────┼───────────┼\n",
            "│       ElasticNet       │ 38.4939 │   0.251833  │ 17.1119 │ 0.962617 │ 0.968125 │ 397.283 │ 0.0627341 │\n",
            "┼────────────────────────┼─────────┼─────────────┼─────────┼──────────┼──────────┼─────────┼───────────┼\n",
            "│          KNN           │ 26.1298 │   0.765809  │ 10.7885 │ 0.606903 │ 0.657167 │ 142.926 │  0.568132 │\n",
            "┼────────────────────────┼─────────┼─────────────┼─────────┼──────────┼──────────┼─────────┼───────────┼\n",
            "│ Stock Management Model │ 17.1057 │   \u001b[1;32m0.923358\u001b[0m  │ 7.52769 │ 0.406239 │  0.3849  │ 120.014 │  \u001b[1;32m0.85185\u001b[0m  │\n",
            "┼────────────────────────┼─────────┼─────────────┼─────────┼──────────┼──────────┼─────────┼───────────┼\n"
          ]
        }
      ],
      "source": [
        "from prettytable import PrettyTable\n",
        "\n",
        "\n",
        "table = PrettyTable()\n",
        "table.field_names = [\"Model\", \"RMSE\", \"Correlation\", \"MAE\", \"RAE\", \"RRSE\", \"MAPE\", \"R2\"]\n",
        "\n",
        "table.add_row([\"Random Forest\", 23.3435, 0.812994, 8.96228, 0.504168, 0.58709, 82.339, 0.655325])\n",
        "table.add_row([\"Linear Regression\", 23.8307, 0.802579, 11.2327, 0.631891, 0.599343, 218.499, 0.640788])\n",
        "table.add_row([\"Lasso\", 33.9357, 0.547551, 15.9419, 0.896799, 0.853486, 365.006, 0.271562])\n",
        "table.add_row([\"Ridge\", 23.8388, 0.801596, 11.1452, 0.626969, 0.599547, 214.896, 0.640543])\n",
        "table.add_row([\"ElasticNet\", 38.4939, 0.251833, 17.1119, 0.962617, 0.968125, 397.283, 0.0627341])\n",
        "table.add_row([\"KNN\", 26.1298, 0.765809, 10.7885, 0.606903, 0.657167, 142.926, 0.568132])\n",
        "\n",
        "stock_management_row = [\"Stock Management Model\", 17.1057, \"\\033[1;32m0.923358\\033[0m\", 7.52769, 0.406239, 0.3849, 120.014, \"\\033[1;32m0.85185\\033[0m\"]\n",
        "table.add_row(stock_management_row)\n",
        "\n",
        "table.align = \"c\"\n",
        "table.hrules = True\n",
        "table.horizontal_char = \"─\"\n",
        "table.vertical_char = \"│\"\n",
        "table.junction_char = \"┼\"\n",
        "\n",
        "print(table)\n"
      ]
    },
    {
      "cell_type": "code",
      "execution_count": 13,
      "metadata": {
        "colab": {
          "base_uri": "https://localhost:8080/",
          "height": 607
        },
        "id": "ADWOnNpmXPXE",
        "outputId": "094d0b4e-e442-4448-fdc7-ce6dd84f71cc"
      },
      "outputs": [
        {
          "data": {
            "image/png": "[encoded data removed]",
            "text/plain": [
              "<Figure size 1000x600 with 2 Axes>"
            ]
          },
          "metadata": {},
          "output_type": "display_data"
        }
      ],
      "source": [
        "import matplotlib.pyplot as plt\n",
        "import numpy as np\n",
        "\n",
        "models = ['Random Forest', 'Linear Regression', 'Lasso', 'Ridge', 'ElasticNet', 'KNN', 'Stock Management']\n",
        "rmse = [23.3435, 23.8307, 33.9357, 23.8388, 38.4939, 26.1298, 16.2239]\n",
        "correlation = [0.812994, 0.802579, 0.547551, 0.801596, 0.251833, 0.765809, 0.915217]\n",
        "mae = [8.96228, 11.2327, 15.9419, 11.1452, 17.1119, 10.7885, 7.52769]\n",
        "\n",
        "\n",
        "\n",
        "fig, ax1 = plt.subplots(figsize=(10, 6))\n",
        "\n",
        "\n",
        "ax1.bar(models, rmse, color='skyblue', alpha=0.7, label='RMSE')\n",
        "ax1.bar(models, mae, color='lightgreen', alpha=0.7, label='MAE')\n",
        "\n",
        "\n",
        "ax2 = ax1.twinx()\n",
        "ax2.plot(models, correlation, color='tomato', marker='o', label='Correlation', linewidth=2)\n",
        "\n",
        "\n",
        "ax1.set_xlabel('Model')\n",
        "ax1.set_ylabel('RMSE and MAE', color='black')\n",
        "ax2.set_ylabel('Correlation', color='black')\n",
        "ax1.tick_params(axis='y', labelcolor='black')\n",
        "ax2.tick_params(axis='y', labelcolor='black')\n",
        "\n",
        "\n",
        "ax1.grid(axis='y', linestyle='--', alpha=0.7)\n",
        "\n",
        "\n",
        "lines, labels = ax1.get_legend_handles_labels()\n",
        "lines2, labels2 = ax2.get_legend_handles_labels()\n",
        "ax2.legend(lines + lines2, labels + labels2, loc='upper left', bbox_to_anchor=(0.8, 0.9))\n",
        "\n",
        "\n",
        "plt.title('Performance Comparison of Models')\n",
        "plt.tight_layout()\n",
        "\n",
        "ax1.set_facecolor('#f7f7f7')\n",
        "fig.patch.set_facecolor('#f7f7f7')\n",
        "\n",
        "\n",
        "plt.show()\n"
      ]
    },
    {
      "cell_type": "code",
      "execution_count": null,
      "metadata": {
        "id": "Y5ivO90Y5jaG"
      },
      "outputs": [],
      "source": []
    }
  ],
  "metadata": {
    "colab": {
      "provenance": []
    },
    "kernelspec": {
      "display_name": "curie",
      "language": "python",
      "name": "python3"
    },
    "language_info": {
      "codemirror_mode": {
        "name": "ipython",
        "version": 3
      },
      "file_extension": ".py",
      "mimetype": "text/x-python",
      "name": "python",
      "nbconvert_exporter": "python",
      "pygments_lexer": "ipython3",
      "version": "3.11.11"
    }
  },
  "nbformat": 4,
  "nbformat_minor": 0
}
